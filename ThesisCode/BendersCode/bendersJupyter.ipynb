{
 "cells": [
  {
   "cell_type": "code",
   "execution_count": 1,
   "metadata": {},
   "outputs": [],
   "source": [
    "import pandas as pd\n",
    "import gurobipy   as      gp\n",
    "from   gurobipy   import GRB\n",
    "from MasterProblem import MasterProblem"
   ]
  },
  {
   "cell_type": "code",
   "execution_count": 2,
   "metadata": {},
   "outputs": [],
   "source": [
    "#path = \"C:/Users/willi/OneDrive/Escritorio/Magister/Tesis-Magister/Database/integratedModel/\" #Notebook\n",
    "path = \"/home/williams/Tesis-Magister/Database/integratedModel/\"\n",
    "#path = \"C:/Users/Williams Medina/Desktop/Tesis Magister/Tesis-Magister/ThesisCode/MainCode/Databases/integratedModel/\" #Desktop\n",
    "undergroundDatabaseName = 'Modelo_F_OG.xlsx'\n",
    "#openPitDatabaseName = 'Modelo_F_OG.xlsx'\n",
    "openPitDatabaseName = 'Modelo_F_OG_4_4_4.xlsx'"
   ]
  },
  {
   "cell_type": "code",
   "execution_count": 3,
   "metadata": {},
   "outputs": [],
   "source": [
    "undergroundMineDataframe = pd.read_excel(path + undergroundDatabaseName, engine=\"openpyxl\") #Notebook\n",
    "openPitDataframe = pd.read_excel(path + openPitDatabaseName, engine=\"openpyxl\") #Notebook"
   ]
  },
  {
   "cell_type": "code",
   "execution_count": 4,
   "metadata": {},
   "outputs": [],
   "source": [
    "import gurobipy   as     gp\n",
    "from   gurobipy   import GRB\n",
    "from itertools import chain\n",
    "from globalFunctions import getNumberOfBlocksInADimension\n",
    "from openPitFunctions import finalBlock\n",
    "\n",
    "\n",
    "class SubProblem:\n",
    "   #OpenPit Problem \n",
    "   def __init__(self, database, numberOfPeriods):\n",
    "      self.database = database\n",
    "      self.numberOfPeriods = numberOfPeriods\n",
    "      self.basePrice = 3791.912\n",
    "      self.desc = 0.1\n",
    "\n",
    "   def setParameters(self):\n",
    "      self.setOpenPitVariables()\n",
    "      self.getOpenPitInfo()\n",
    "      self.setOpenPitParameters()\n",
    "      self.setOpenPitMineLimits()\n",
    "      #self.setFinalParameters()\n",
    "      self.setPossibleHeights()\n",
    "      self.setHeightSets()\n",
    "\n",
    "   def setOpenPitVariables(self):\n",
    "      self.openPitBlocksLenght = self.database['X'].to_dict() \n",
    "      self.openPitBlocksWidth = self.database['Y'].to_dict() \n",
    "      self.openPitBlocksHeight = self.database['Z'].to_dict() \n",
    "      self.L_b = self.database['Ton'].to_dict() #openPitBlockTonnage\n",
    "      self.o_b = self.database['Mineral'].to_dict() #openPitBlockMineral\n",
    "      self.openPitBlockRecovery = self.database['Recuperación'].to_dict() #openPitBlockRecovery\n",
    "      self.openPitCopperLaw = self.database['%Cu'].to_dict() #openPitCopperLaw\n",
    "      self.c_pbt = self.database['CPlanta CA'].to_dict() #openPitPlantCapacity\n",
    "      self.c_mbt = self.database['CMina CA'].to_dict() #openPitMineCapacity\n",
    "\n",
    "   def getOpenPitInfo(self):\n",
    "      self.openPitBlocks = [i for i in range(len(self.openPitBlocksLenght.values()))]\n",
    "\n",
    "   def setOpenPitParameters(self):\n",
    "      #OpenPit Parameters\n",
    "      self.t_C   = {period : period + 1 for period in range(self.numberOfPeriods)}\n",
    "      self.RMu_t = {period : 13219200.0 for period in range(self.numberOfPeriods)}#Superior infinita, 0 por abajo Originales: 13219200\n",
    "      self.RMl_t = {period : 8812800.0 for period in range(self.numberOfPeriods)}#Valor original 8812800.0\n",
    "      self.RPu_t = {period : 10933380.0 for period in range(self.numberOfPeriods)}#Valor original 10933380.0\n",
    "      self.RPl_t = {period : 7288920 for period in range(self.numberOfPeriods)}#Valor original 7288920.0 \n",
    "      self.qu_t  = {period : 1 for period in range(self.numberOfPeriods)}#Leyes promedio maxima y minima.\n",
    "      self.ql_t  = {period : 0 for period in range(self.numberOfPeriods)}\n",
    "      self.maxTimeOpenPit = self.t_C[max(self.t_C)]\n",
    "\n",
    "   def setOpenPitMineLimits(self):\n",
    "      self.openPitBlocksLengthLimits = getNumberOfBlocksInADimension(self.openPitBlocksLenght)\n",
    "      self.openPitBlocksWidthLimits = getNumberOfBlocksInADimension(self.openPitBlocksWidth)\n",
    "      self.openPitBlocksHeightLimits = getNumberOfBlocksInADimension(self.openPitBlocksHeight)\n",
    "      self.predecessorBlock = self.setPredecessorBlock()\n",
    "\n",
    "   def setPredecessorBlock(self):\n",
    "        predecessorBlock = []\n",
    "        superiorBlock = finalBlock(self.openPitBlocks, self.openPitBlocksLengthLimits,self.openPitBlocksWidthLimits, self.openPitBlocksHeightLimits)\n",
    "        for i in range(len(self.openPitBlocks)):\n",
    "            for j in superiorBlock[i]:\n",
    "                aux_1 = []\n",
    "                aux_1.append(self.openPitBlocks[i])\n",
    "                aux_1.append(j)\n",
    "                predecessorBlock.append(aux_1)\n",
    "        return predecessorBlock\n",
    "\n",
    "   def setPossibleHeights(self):\n",
    "      self.blockHeight, self.maxHeight, self.minHeight, self.numOfDifferentsBlocks = self.openPitBlocksHeightLimits\n",
    "   \n",
    "   def setHeightSets(self):\n",
    "      self.V = [height for height in chain(range(self.minHeight,self.maxHeight,self.blockHeight), [self.maxHeight])]\n",
    "      self.B_v = {}\n",
    "      self.rho_v = {v:1 - (v - self.minHeight)/(self.maxHeight - self.minHeight) for v in self.V}\n",
    "\n",
    "      for v in self.V:\n",
    "         numberOfBlocksBelowV = (self.openPitBlocksLengthLimits[3]*self.openPitBlocksWidthLimits[3])*((v-self.minHeight)/self.openPitBlocksHeightLimits[0])\n",
    "         blocksBelowV = [block for block in range(int(numberOfBlocksBelowV)) if not numberOfBlocksBelowV == 0]\n",
    "         self.B_v[v] = blocksBelowV\n",
    "\n",
    "   def addCrownPillarRestriction(self, estimatedW_v):\n",
    "      self.heightRestriction = self.openPitModel.addConstrs(gp.quicksum(self.x_bt[ti, b] for ti in self.t_C) <= 1 - estimatedW_v[v] for v in (self.V) for b in self.B_v[v])\n",
    "   \n",
    "\n",
    "   def setModel(self):#,w_opt):\n",
    "      self.openPitModel = gp.Model(name = 'Open Pit Model')\n",
    "      self.openPitModel.Params.OutputFlag = 0\n",
    "\n",
    "      #6. Naturaleza de variables\n",
    "      self.x_bt = self.openPitModel.addVars(self.t_C, self.openPitBlocks, vtype=GRB.CONTINUOUS, name=\"x\")\n",
    "\n",
    "      #1. Restricci ́on sobre la cantidad de tonelaje m ́axima y m ́ınima a extraer en cada periodo.\n",
    "      Ton_Up  = self.openPitModel.addConstrs((gp.quicksum(self.x_bt[ti, b]*self.L_b[b] for b in self.openPitBlocks) \n",
    "                              <= self.RMu_t[ti] for ti in self.t_C), \"Ton_max\")\n",
    "      Ton_low = self.openPitModel.addConstrs((gp.quicksum(self.x_bt[ti, b]*self.L_b[b] for b in self.openPitBlocks) \n",
    "                              >= self.RMl_t[ti] for ti in self.t_C), \"Ton_min\")\n",
    "\n",
    "      #2. Restricci ́on sobre la cantidad de material m ́axima y m ́ınima a extraer en cada periodo.\n",
    "      Mat_Up_OP = self.openPitModel.addConstrs((gp.quicksum(self.x_bt[ti, b]*self.o_b[b] for b in self.openPitBlocks) <= \n",
    "                              self.RPu_t[ti] for ti in self.t_C), \"Mat_max\")\n",
    "      Mat_low_OP = self.openPitModel.addConstrs((gp.quicksum(self.x_bt[ti, b]*self.o_b[b] for b in self.openPitBlocks) >= \n",
    "                              self.RPl_t[ti] for ti in self.t_C), \"Mat_min\")\n",
    "\n",
    "      #3. Restricci ́on de precedencia de los bloques a extraer, debemos extraer los 5 bloques superiores al bloque objetivo para sacar a este\n",
    "      BLOCK_SUP_OP = self.openPitModel.addConstrs((gp.quicksum(self.x_bt[s, self.predecessorBlock[l][0]]*(self.maxTimeOpenPit-s+1) for s in self.t_C) <= \n",
    "                                       gp.quicksum(self.x_bt[s, self.predecessorBlock[l][1]]*(self.maxTimeOpenPit-s+1) for s in self.t_C)  \n",
    "                                    for l in range(len(self.predecessorBlock))), \"Superior_Block\")\n",
    "\n",
    "      #4. Restricci ́on sobre la ley m ́axima y m ́ınima por periodo.\n",
    "      GQC_Up_OP = self.openPitModel.addConstrs((gp.quicksum(self.x_bt[ti, b]*self.L_b[b]*self.openPitCopperLaw[b] for b in self.openPitBlocks) <=\n",
    "                           self.qu_t[ti] * gp.quicksum(self.x_bt[ti, b]*self.L_b[b] for b in self.openPitBlocks) for ti in self.t_C), \n",
    "                              \"GQC_Up\")\n",
    "\n",
    "      GQC_low_OP = self.openPitModel.addConstrs((gp.quicksum(self.x_bt[ti, b]*self.L_b[b]*self.openPitCopperLaw[b] for b in self.openPitBlocks) >=\n",
    "                           self.ql_t[ti] * gp.quicksum(self.x_bt[ti, b]*self.L_b[b] for b in self.openPitBlocks) for ti in self.t_C), \n",
    "                              \"GQC_LOW\")\n",
    "\n",
    "      #5. Podemos extraer el bloque en un solo periodo.\n",
    "      Reserve_cons_OP = self.openPitModel.addConstrs((gp.quicksum(self.x_bt[ti, b] for ti in self.t_C) <= 1 for b in self.openPitBlocks), \n",
    "                              \"Reserve_cons\")\n",
    "\n",
    "      #Función objetivo\n",
    "      FO_OP = gp.quicksum(self.x_bt[ti, b]*((((self.basePrice*self.openPitCopperLaw[b]-self.c_pbt[b])*self.o_b[b])-(self.c_mbt[b]*self.L_b[b]))/((1+self.desc)**self.t_C[ti]))\n",
    "                  for ti in self.t_C for b in self.openPitBlocks)\n",
    "\n",
    "      \n",
    "      \n",
    "      self.openPitModel.setObjective(FO_OP, GRB.MAXIMIZE)\n",
    "      self.openPitModel.Params.MIPGap = 0.01\n",
    "      \n",
    "      lista_variable_Integrado = (self.openPitModel.getAttr(GRB.Attr.X, self.openPitModel.getVars()))\n",
    "      runtime = self.openPitModel.Runtime\n",
    "      gap_f = 1#self.openPitModel.MIPGap\n",
    "\n",
    "   def optimize(self, estimatedW_v):\n",
    "\n",
    "      self.heightRestriction = self.openPitModel.addConstrs(gp.quicksum(self.x_bt[ti, b] for ti in self.t_C) <= 1 - estimatedW_v[v] for v in self.V for b in self.B_v[v])\n",
    "      self.openPitModel.optimize()\n",
    "      objVal = self.openPitModel.objVal\n",
    "\n",
    "      return objVal, [dualVariable.pi for dualVariable in self.heightRestriction.values()]"
   ]
  },
  {
   "cell_type": "code",
   "execution_count": 5,
   "metadata": {},
   "outputs": [],
   "source": [
    "class Main:\n",
    "    def __init__(self, undergroundMineDataframe, openPitDataframe):\n",
    "        self.openPitDataframe = openPitDataframe\n",
    "        self.undergroundMineDataframe = undergroundMineDataframe\n",
    "        self.numberOfPeriods = 5\n",
    "        self.epsilon = 1000\n",
    "        \n",
    "    def execute(self):\n",
    "        self.createModels()\n",
    "        self.setMasterProblemCrownPillarHeights()\n",
    "        self.getResults()\n",
    "    \n",
    "    def createModels(self):\n",
    "        self.createSubProblem()\n",
    "        self.createMasterProblem()\n",
    "\n",
    "    def createSubProblem(self):\n",
    "        self.SubProblem = SubProblem(self.openPitDataframe, self.numberOfPeriods)\n",
    "        self.SubProblem.setParameters()\n",
    "\n",
    "    def createMasterProblem(self):\n",
    "        self.MasterProblem = MasterProblem(self.undergroundMineDataframe, self.numberOfPeriods)\n",
    "        self.MasterProblem.setParameters()\n",
    "    \n",
    "    def setMasterProblemCrownPillarHeights(self):\n",
    "        self.MasterProblem.V, self.MasterProblem.rho_v = self.SubProblem.V, self.SubProblem.rho_v\n",
    "        self.MasterProblem.B_v = self.SubProblem.B_v\n",
    "\n",
    "\n",
    "    def getResults(self):\n",
    "        it = 0\n",
    "        self.MasterProblem.setModel()\n",
    "        self.SubProblem.setModel()\n",
    "        currentTheta = -100000000000\n",
    "        while True:\n",
    "            it +=1\n",
    "            self.estimatedW_v, self.estimatedTheta = self.MasterProblem.optimize()\n",
    "            #self.estimatedW_v = {key:value.X for key,value in zip(self.estimatedW_v, self.estimatedW_v.values())}\n",
    "            subProblemObjValue, pi_vb = self.SubProblem.optimize(self.estimatedW_v)\n",
    "            #Cuál es la condición de termino?, en el seudo algoritmo es dif de \n",
    "            \"\"\"if subProblemObjValue - self.MasterProblem.theta.X <= self.epsilon:\n",
    "                print(\"Optimal Crown Pillar height: {}\".format(self.estimatedW_v))\n",
    "                print(\"Optimal ObjVal: {}\".format(subProblemObjValue + self.MasterProblem.undergroundModel.objVal))\n",
    "                print(\"Optimal Theta: {}\".format(self.MasterProblem.theta.X))\n",
    "                #print(\"Current theta: {}\".format(currentTheta))\n",
    "                break\"\"\"\n",
    "            if abs(self.MasterProblem.theta.X - currentTheta) <= self.epsilon:\n",
    "                print()\n",
    "                print(\"-----------------------------Valor óptimo encontrado-----------------------------\")\n",
    "                print(\"Optimal Crown Pillar height: {}\".format(self.estimatedW_v))\n",
    "                print(\"Optimal ObjVal: {}\".format(subProblemObjValue + self.MasterProblem.undergroundModel.objVal))\n",
    "                print(\"Optimal Theta: {}\".format(self.MasterProblem.theta.X))\n",
    "                print(\"Current theta: {}\".format(currentTheta))\n",
    "                break\n",
    "            \n",
    "            print(it, \"Objective Value =\", self.MasterProblem.undergroundModel.objVal)\n",
    "            print(\"w_v: {}\".format(self.estimatedW_v))\n",
    "            print(\"Master theta: {}\".format(self.MasterProblem.theta))\n",
    "            print(\"Current theta: {}\".format(currentTheta))\n",
    "            currentTheta = self.estimatedTheta.X\n",
    "            self.MasterProblem.undergroundModel.addConstr(self.MasterProblem.theta <= subProblemObjValue + gp.quicksum(gp.quicksum((self.MasterProblem.w_v[v]-self.estimatedW_v[v]) * pi_vb[b] for b in self.SubProblem.B_v) for v in self.SubProblem.V))\n",
    "            #self.MasterProblem.undergroundModel.addConstr(self.MasterProblem.w_v[1265] == 1)\n",
    "            #self.SubProblem.openPitModel.addConstrs(gp.quicksum(self.SubProblem.x_bt[ti, b] for ti in self.SubProblem.t_C) <= 1 - self.estimatedW_v[v] for v in self.SubProblem.V for b in self.SubProblem.B_v[v])\n",
    "            #self.MasterProblem.addThetaRestriction(subProblemObjValue,self.estimatedW_v,pi_vb)\n",
    "            print()\n",
    "            print()"
   ]
  },
  {
   "cell_type": "markdown",
   "metadata": {},
   "source": []
  },
  {
   "cell_type": "code",
   "execution_count": 6,
   "metadata": {},
   "outputs": [
    {
     "name": "stdout",
     "output_type": "stream",
     "text": [
      "Set parameter Username\n",
      "Academic license - for non-commercial use only - expires 2023-10-02\n",
      "Set parameter TimeLimit to value 3600\n",
      "1 Objective Value = 804143376.9373022\n",
      "w_v: {745: 1.0, 785: 0.0, 825: 0.0, 865: 0.0, 905: 0.0, 945: 0.0, 985: 0.0, 1025: 0.0, 1065: 0.0, 1105: 0.0, 1145: 0.0, 1185: 0.0, 1225: 0.0, 1265: 0.0, 1305: 0.0}\n",
      "Master theta: <gurobi.Var theta (value 800000000.0)>\n",
      "Current theta: -100000000000\n",
      "\n",
      "\n",
      "2 Objective Value = 739375340.174233\n",
      "w_v: {745: 1.0, 785: 0.0, 825: 0.0, 865: 0.0, 905: 0.0, 945: 0.0, 985: 0.0, 1025: 0.0, 1065: 0.0, 1105: 0.0, 1145: 0.0, 1185: 0.0, 1225: 0.0, 1265: 0.0, 1305: 0.0}\n",
      "Master theta: <gurobi.Var theta (value 735231963.2369306)>\n",
      "Current theta: 800000000.0\n",
      "\n",
      "\n",
      "\n",
      "-----------------------------Valor óptimo encontrado-----------------------------\n",
      "Optimal Crown Pillar height: {745: 1.0, 785: 0.0, 825: 0.0, 865: 0.0, 905: 0.0, 945: 0.0, 985: 0.0, 1025: 0.0, 1065: 0.0, 1105: 0.0, 1145: 0.0, 1185: 0.0, 1225: 0.0, 1265: 0.0, 1305: 0.0}\n",
      "Optimal ObjVal: 1474607303.4111636\n",
      "Optimal Theta: 735231963.2369306\n",
      "Current theta: 735231963.2369306\n"
     ]
    }
   ],
   "source": [
    "main = Main(undergroundMineDataframe, openPitDataframe)\n",
    "main.execute()"
   ]
  },
  {
   "cell_type": "code",
   "execution_count": 7,
   "metadata": {},
   "outputs": [
    {
     "data": {
      "text/plain": [
       "False"
      ]
     },
     "execution_count": 7,
     "metadata": {},
     "output_type": "execute_result"
    }
   ],
   "source": [
    "main.MasterProblem.theta.X - (-100000000000) <= main.epsilon"
   ]
  },
  {
   "cell_type": "code",
   "execution_count": 8,
   "metadata": {},
   "outputs": [
    {
     "data": {
      "text/plain": [
       "14701305.95276761"
      ]
     },
     "execution_count": 8,
     "metadata": {},
     "output_type": "execute_result"
    }
   ],
   "source": [
    "750622680-735921374.0472324"
   ]
  },
  {
   "cell_type": "code",
   "execution_count": 9,
   "metadata": {},
   "outputs": [
    {
     "data": {
      "text/plain": [
       "739375340.174233"
      ]
     },
     "execution_count": 9,
     "metadata": {},
     "output_type": "execute_result"
    }
   ],
   "source": [
    "main.MasterProblem.undergroundModel.objVal"
   ]
  },
  {
   "cell_type": "code",
   "execution_count": 10,
   "metadata": {},
   "outputs": [
    {
     "data": {
      "text/plain": [
       "735231963.2369306"
      ]
     },
     "execution_count": 10,
     "metadata": {},
     "output_type": "execute_result"
    }
   ],
   "source": [
    "main.SubProblem.openPitModel.objVal"
   ]
  },
  {
   "cell_type": "code",
   "execution_count": null,
   "metadata": {},
   "outputs": [],
   "source": []
  }
 ],
 "metadata": {
  "kernelspec": {
   "display_name": "Python 3.10.6 64-bit",
   "language": "python",
   "name": "python3"
  },
  "language_info": {
   "codemirror_mode": {
    "name": "ipython",
    "version": 3
   },
   "file_extension": ".py",
   "mimetype": "text/x-python",
   "name": "python",
   "nbconvert_exporter": "python",
   "pygments_lexer": "ipython3",
   "version": "3.10.6"
  },
  "orig_nbformat": 4,
  "vscode": {
   "interpreter": {
    "hash": "916dbcbb3f70747c44a77c7bcd40155683ae19c65e1c03b4aa3499c5328201f1"
   }
  }
 },
 "nbformat": 4,
 "nbformat_minor": 2
}
