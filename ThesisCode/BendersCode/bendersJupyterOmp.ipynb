{
 "cells": [
  {
   "cell_type": "code",
   "execution_count": 1,
   "metadata": {},
   "outputs": [],
   "source": [
    "import pandas as pd\n",
    "import gurobipy   as      gp\n",
    "from   gurobipy   import GRB\n",
    "from MasterProblemOMP import MasterProblem\n",
    "from OMPopenPit import SubProblem"
   ]
  },
  {
   "attachments": {},
   "cell_type": "markdown",
   "metadata": {},
   "source": [
    "Preguntas:\n",
    "\n",
    "* El valor objetivo que utilizamos es el del B-z algorithm o el que obtenemos luego de aplicar toposort?\n",
    "* Para el vector pi_vb si tenemos solo un rhs = 0, para que periodo rellenamos con el pi de los bloques (necesito entender cuál es la estructura de pi_vb, es un vector incremental de valores para cada bloque?)\n",
    "* Para el caso de omp, no utilizamos w_v si no que transformamos este en los bloques que no se pueden extraer? "
   ]
  },
  {
   "cell_type": "code",
   "execution_count": 2,
   "metadata": {},
   "outputs": [],
   "source": [
    "#path = \"C:/Users/willi/OneDrive/Escritorio/Magister/Tesis-Magister/Database/integratedModel/\" #Notebook\n",
    "path = \"/home/williams/Tesis-Magister/Database/integratedModel/\"\n",
    "#path = \"C:/Users/Williams Medina/Desktop/Tesis Magister/Tesis-Magister/ThesisCode/MainCode/Databases/integratedModel/\" #Desktop\n",
    "undergroundDatabaseName = 'Modelo_F_OG.xlsx'\n",
    "#openPitDatabaseName = 'Modelo_F_OG.xlsx'\n",
    "openPitDatabaseName = 'Modelo_F_OG_4_4_4.xlsx'"
   ]
  },
  {
   "cell_type": "code",
   "execution_count": 3,
   "metadata": {},
   "outputs": [],
   "source": [
    "if undergroundDatabaseName == openPitDatabaseName:\n",
    "    undergroundMineDataframe = pd.read_excel(path + undergroundDatabaseName, engine=\"openpyxl\") #Notebook\n",
    "    openPitDataframe = undergroundMineDataframe\n",
    "else:\n",
    "    undergroundMineDataframe = pd.read_excel(path + undergroundDatabaseName, engine=\"openpyxl\") #Notebook\n",
    "    openPitDataframe = pd.read_excel(path + openPitDatabaseName, engine=\"openpyxl\") #Notebook"
   ]
  },
  {
   "cell_type": "code",
   "execution_count": 4,
   "metadata": {},
   "outputs": [],
   "source": [
    "class Main:\n",
    "    def __init__(self, undergroundMineDataframe, openPitDataframe):\n",
    "        self.openPitDataframe = openPitDataframe\n",
    "        self.undergroundMineDataframe = undergroundMineDataframe\n",
    "        self.numberOfPeriods = 5\n",
    "        self.epsilon = 1000\n",
    "        \n",
    "    def execute(self):\n",
    "        self.createModels()\n",
    "        self.setMasterProblemCrownPillarHeights()\n",
    "        self.getResults()\n",
    "    \n",
    "    def createModels(self):\n",
    "        self.createSubProblem()\n",
    "        self.createMasterProblem()\n",
    "\n",
    "    def createSubProblem(self):\n",
    "        self.SubProblem = SubProblem(self.openPitDataframe, self.numberOfPeriods)\n",
    "        self.SubProblem.setParameters()\n",
    "\n",
    "    def createMasterProblem(self):\n",
    "        self.MasterProblem = MasterProblem(self.undergroundMineDataframe, self.numberOfPeriods)\n",
    "        self.MasterProblem.setParameters()\n",
    "        \n",
    "    def setMasterProblemCrownPillarHeights(self):\n",
    "        self.MasterProblem.V, self.MasterProblem.rho_v = self.SubProblem.V, self.SubProblem.rho_v\n",
    "        self.MasterProblem.B_v = self.SubProblem.B_v\n",
    "\n",
    "    def getResults(self):\n",
    "        it = 0\n",
    "        self.MasterProblem.setModel()\n",
    "        currentTheta = -100000000000\n",
    "        while True:\n",
    "            it +=1\n",
    "            self.estimatedW_v, self.estimatedTheta = self.MasterProblem.optimize()\n",
    "            subProblemObjValue, pi_vb = self.SubProblem.execute(self.MasterProblem.selectedHeight)\n",
    "            #Cuál es la condición de termino?, en el seudo algoritmo es dif de \n",
    "            print(subProblemObjValue, pi_vb)\n",
    "            if abs(self.MasterProblem.theta.X - currentTheta) <= self.epsilon:\n",
    "                print()\n",
    "                print(\"-----------------------------Valor óptimo encontrado-----------------------------\")\n",
    "                print(\"Optimal Crown Pillar height: {}\".format(self.estimatedW_v))\n",
    "                print(\"Optimal ObjVal: {}\".format(subProblemObjValue + self.MasterProblem.undergroundModel.objVal))\n",
    "                print(\"Optimal Theta: {}\".format(self.MasterProblem.theta.X))\n",
    "                print(\"Current theta: {}\".format(currentTheta))\n",
    "                break\n",
    "            \n",
    "            print(it, \"Objective Value =\", self.MasterProblem.undergroundModel.objVal)\n",
    "            print(\"w_v: {}\".format(self.estimatedW_v))\n",
    "            print(\"Master theta: {}\".format(self.MasterProblem.theta))\n",
    "            print(\"Current theta: {}\".format(currentTheta))\n",
    "            currentTheta = self.estimatedTheta.X\n",
    "            self.MasterProblem.undergroundModel.addConstr(self.MasterProblem.theta <= subProblemObjValue + gp.quicksum(gp.quicksum((self.MasterProblem.w_v[v]-self.estimatedW_v[v]) * pi_vb[b] for b in self.MasterProblem.B_v) for v in self.MasterProblem.V))\n",
    "            #self.MasterProblem.undergroundModel.addConstr(self.MasterProblem.w_v[1265] == 1)\n",
    "            #self.SubProblem.openPitModel.addConstrs(gp.quicksum(self.SubProblem.x_bt[ti, b] for ti in self.SubProblem.t_C) <= 1 - self.estimatedW_v[v] for v in self.SubProblem.V for b in self.SubProblem.B_v[v])\n",
    "            #self.MasterProblem.addThetaRestriction(subProblemObjValue,self.estimatedW_v,pi_vb)\n",
    "            print()\n",
    "            print()"
   ]
  },
  {
   "cell_type": "code",
   "execution_count": 5,
   "metadata": {},
   "outputs": [
    {
     "name": "stdout",
     "output_type": "stream",
     "text": [
      "Set parameter Username\n",
      "Academic license - for non-commercial use only - expires 2023-10-02\n",
      "Set parameter TimeLimit to value 3600\n",
      "623710000.0 [0, 0, 0]\n",
      "1 Objective Value = 804143376.9373022\n",
      "w_v: {745: 1.0, 785: 0.0, 825: 0.0, 865: 0.0, 905: 0.0, 945: 0.0, 985: 0.0, 1025: 0.0, 1065: 0.0, 1105: 0.0, 1145: 0.0, 1185: 0.0, 1225: 0.0, 1265: 0.0, 1305: 0.0}\n",
      "Master theta: <gurobi.Var theta (value 800000000.0)>\n",
      "Current theta: -100000000000\n"
     ]
    },
    {
     "ename": "IndexError",
     "evalue": "list index out of range",
     "output_type": "error",
     "traceback": [
      "\u001b[0;31m---------------------------------------------------------------------------\u001b[0m",
      "\u001b[0;31mIndexError\u001b[0m                                Traceback (most recent call last)",
      "Cell \u001b[0;32mIn [5], line 2\u001b[0m\n\u001b[1;32m      1\u001b[0m main \u001b[39m=\u001b[39m Main(undergroundMineDataframe, openPitDataframe)\n\u001b[0;32m----> 2\u001b[0m main\u001b[39m.\u001b[39mexecute()\n",
      "Cell \u001b[0;32mIn [4], line 11\u001b[0m, in \u001b[0;36mMain.execute\u001b[0;34m(self)\u001b[0m\n\u001b[1;32m      9\u001b[0m \u001b[39mself\u001b[39m\u001b[39m.\u001b[39mcreateModels()\n\u001b[1;32m     10\u001b[0m \u001b[39mself\u001b[39m\u001b[39m.\u001b[39msetMasterProblemCrownPillarHeights()\n\u001b[0;32m---> 11\u001b[0m \u001b[39mself\u001b[39;49m\u001b[39m.\u001b[39;49mgetResults()\n",
      "Cell \u001b[0;32mIn [4], line 53\u001b[0m, in \u001b[0;36mMain.getResults\u001b[0;34m(self)\u001b[0m\n\u001b[1;32m     51\u001b[0m \u001b[39mprint\u001b[39m(\u001b[39m\"\u001b[39m\u001b[39mCurrent theta: \u001b[39m\u001b[39m{}\u001b[39;00m\u001b[39m\"\u001b[39m\u001b[39m.\u001b[39mformat(currentTheta))\n\u001b[1;32m     52\u001b[0m currentTheta \u001b[39m=\u001b[39m \u001b[39mself\u001b[39m\u001b[39m.\u001b[39mestimatedTheta\u001b[39m.\u001b[39mX\n\u001b[0;32m---> 53\u001b[0m \u001b[39mself\u001b[39m\u001b[39m.\u001b[39mMasterProblem\u001b[39m.\u001b[39mundergroundModel\u001b[39m.\u001b[39maddConstr(\u001b[39mself\u001b[39m\u001b[39m.\u001b[39mMasterProblem\u001b[39m.\u001b[39mtheta \u001b[39m<\u001b[39m\u001b[39m=\u001b[39m subProblemObjValue \u001b[39m+\u001b[39m gp\u001b[39m.\u001b[39;49mquicksum(gp\u001b[39m.\u001b[39;49mquicksum((\u001b[39mself\u001b[39;49m\u001b[39m.\u001b[39;49mMasterProblem\u001b[39m.\u001b[39;49mw_v[v]\u001b[39m-\u001b[39;49m\u001b[39mself\u001b[39;49m\u001b[39m.\u001b[39;49mestimatedW_v[v]) \u001b[39m*\u001b[39;49m pi_vb[b] \u001b[39mfor\u001b[39;49;00m b \u001b[39min\u001b[39;49;00m \u001b[39mself\u001b[39;49m\u001b[39m.\u001b[39;49mMasterProblem\u001b[39m.\u001b[39;49mB_v) \u001b[39mfor\u001b[39;49;00m v \u001b[39min\u001b[39;49;00m \u001b[39mself\u001b[39;49m\u001b[39m.\u001b[39;49mMasterProblem\u001b[39m.\u001b[39;49mV))\n\u001b[1;32m     54\u001b[0m \u001b[39m#self.MasterProblem.undergroundModel.addConstr(self.MasterProblem.w_v[1265] == 1)\u001b[39;00m\n\u001b[1;32m     55\u001b[0m \u001b[39m#self.SubProblem.openPitModel.addConstrs(gp.quicksum(self.SubProblem.x_bt[ti, b] for ti in self.SubProblem.t_C) <= 1 - self.estimatedW_v[v] for v in self.SubProblem.V for b in self.SubProblem.B_v[v])\u001b[39;00m\n\u001b[1;32m     56\u001b[0m \u001b[39m#self.MasterProblem.addThetaRestriction(subProblemObjValue,self.estimatedW_v,pi_vb)\u001b[39;00m\n\u001b[1;32m     57\u001b[0m \u001b[39mprint\u001b[39m()\n",
      "File \u001b[0;32msrc/gurobipy/gurobi.pxi:3631\u001b[0m, in \u001b[0;36mgurobipy.quicksum\u001b[0;34m()\u001b[0m\n",
      "Cell \u001b[0;32mIn [4], line 53\u001b[0m, in \u001b[0;36m<genexpr>\u001b[0;34m(.0)\u001b[0m\n\u001b[1;32m     51\u001b[0m \u001b[39mprint\u001b[39m(\u001b[39m\"\u001b[39m\u001b[39mCurrent theta: \u001b[39m\u001b[39m{}\u001b[39;00m\u001b[39m\"\u001b[39m\u001b[39m.\u001b[39mformat(currentTheta))\n\u001b[1;32m     52\u001b[0m currentTheta \u001b[39m=\u001b[39m \u001b[39mself\u001b[39m\u001b[39m.\u001b[39mestimatedTheta\u001b[39m.\u001b[39mX\n\u001b[0;32m---> 53\u001b[0m \u001b[39mself\u001b[39m\u001b[39m.\u001b[39mMasterProblem\u001b[39m.\u001b[39mundergroundModel\u001b[39m.\u001b[39maddConstr(\u001b[39mself\u001b[39m\u001b[39m.\u001b[39mMasterProblem\u001b[39m.\u001b[39mtheta \u001b[39m<\u001b[39m\u001b[39m=\u001b[39m subProblemObjValue \u001b[39m+\u001b[39m gp\u001b[39m.\u001b[39mquicksum(gp\u001b[39m.\u001b[39;49mquicksum((\u001b[39mself\u001b[39;49m\u001b[39m.\u001b[39;49mMasterProblem\u001b[39m.\u001b[39;49mw_v[v]\u001b[39m-\u001b[39;49m\u001b[39mself\u001b[39;49m\u001b[39m.\u001b[39;49mestimatedW_v[v]) \u001b[39m*\u001b[39;49m pi_vb[b] \u001b[39mfor\u001b[39;49;00m b \u001b[39min\u001b[39;49;00m \u001b[39mself\u001b[39;49m\u001b[39m.\u001b[39;49mMasterProblem\u001b[39m.\u001b[39;49mB_v) \u001b[39mfor\u001b[39;00m v \u001b[39min\u001b[39;00m \u001b[39mself\u001b[39m\u001b[39m.\u001b[39mMasterProblem\u001b[39m.\u001b[39mV))\n\u001b[1;32m     54\u001b[0m \u001b[39m#self.MasterProblem.undergroundModel.addConstr(self.MasterProblem.w_v[1265] == 1)\u001b[39;00m\n\u001b[1;32m     55\u001b[0m \u001b[39m#self.SubProblem.openPitModel.addConstrs(gp.quicksum(self.SubProblem.x_bt[ti, b] for ti in self.SubProblem.t_C) <= 1 - self.estimatedW_v[v] for v in self.SubProblem.V for b in self.SubProblem.B_v[v])\u001b[39;00m\n\u001b[1;32m     56\u001b[0m \u001b[39m#self.MasterProblem.addThetaRestriction(subProblemObjValue,self.estimatedW_v,pi_vb)\u001b[39;00m\n\u001b[1;32m     57\u001b[0m \u001b[39mprint\u001b[39m()\n",
      "File \u001b[0;32msrc/gurobipy/gurobi.pxi:3631\u001b[0m, in \u001b[0;36mgurobipy.quicksum\u001b[0;34m()\u001b[0m\n",
      "Cell \u001b[0;32mIn [4], line 53\u001b[0m, in \u001b[0;36m<genexpr>\u001b[0;34m(.0)\u001b[0m\n\u001b[1;32m     51\u001b[0m \u001b[39mprint\u001b[39m(\u001b[39m\"\u001b[39m\u001b[39mCurrent theta: \u001b[39m\u001b[39m{}\u001b[39;00m\u001b[39m\"\u001b[39m\u001b[39m.\u001b[39mformat(currentTheta))\n\u001b[1;32m     52\u001b[0m currentTheta \u001b[39m=\u001b[39m \u001b[39mself\u001b[39m\u001b[39m.\u001b[39mestimatedTheta\u001b[39m.\u001b[39mX\n\u001b[0;32m---> 53\u001b[0m \u001b[39mself\u001b[39m\u001b[39m.\u001b[39mMasterProblem\u001b[39m.\u001b[39mundergroundModel\u001b[39m.\u001b[39maddConstr(\u001b[39mself\u001b[39m\u001b[39m.\u001b[39mMasterProblem\u001b[39m.\u001b[39mtheta \u001b[39m<\u001b[39m\u001b[39m=\u001b[39m subProblemObjValue \u001b[39m+\u001b[39m gp\u001b[39m.\u001b[39mquicksum(gp\u001b[39m.\u001b[39mquicksum((\u001b[39mself\u001b[39m\u001b[39m.\u001b[39mMasterProblem\u001b[39m.\u001b[39mw_v[v]\u001b[39m-\u001b[39m\u001b[39mself\u001b[39m\u001b[39m.\u001b[39mestimatedW_v[v]) \u001b[39m*\u001b[39m pi_vb[b] \u001b[39mfor\u001b[39;00m b \u001b[39min\u001b[39;00m \u001b[39mself\u001b[39m\u001b[39m.\u001b[39mMasterProblem\u001b[39m.\u001b[39mB_v) \u001b[39mfor\u001b[39;00m v \u001b[39min\u001b[39;00m \u001b[39mself\u001b[39m\u001b[39m.\u001b[39mMasterProblem\u001b[39m.\u001b[39mV))\n\u001b[1;32m     54\u001b[0m \u001b[39m#self.MasterProblem.undergroundModel.addConstr(self.MasterProblem.w_v[1265] == 1)\u001b[39;00m\n\u001b[1;32m     55\u001b[0m \u001b[39m#self.SubProblem.openPitModel.addConstrs(gp.quicksum(self.SubProblem.x_bt[ti, b] for ti in self.SubProblem.t_C) <= 1 - self.estimatedW_v[v] for v in self.SubProblem.V for b in self.SubProblem.B_v[v])\u001b[39;00m\n\u001b[1;32m     56\u001b[0m \u001b[39m#self.MasterProblem.addThetaRestriction(subProblemObjValue,self.estimatedW_v,pi_vb)\u001b[39;00m\n\u001b[1;32m     57\u001b[0m \u001b[39mprint\u001b[39m()\n",
      "\u001b[0;31mIndexError\u001b[0m: list index out of range"
     ]
    }
   ],
   "source": [
    "main = Main(undergroundMineDataframe, openPitDataframe)\n",
    "main.execute()"
   ]
  },
  {
   "cell_type": "code",
   "execution_count": null,
   "metadata": {},
   "outputs": [],
   "source": []
  },
  {
   "cell_type": "code",
   "execution_count": null,
   "metadata": {},
   "outputs": [],
   "source": [
    "750622680-735921374.0472324"
   ]
  },
  {
   "cell_type": "code",
   "execution_count": null,
   "metadata": {},
   "outputs": [],
   "source": [
    "main.MasterProblem.undergroundModel.objVal"
   ]
  },
  {
   "cell_type": "code",
   "execution_count": null,
   "metadata": {},
   "outputs": [],
   "source": [
    "main.SubProblem.openPitModel.objVal"
   ]
  },
  {
   "cell_type": "code",
   "execution_count": null,
   "metadata": {},
   "outputs": [],
   "source": []
  }
 ],
 "metadata": {
  "kernelspec": {
   "display_name": "Python 3.10.6 64-bit",
   "language": "python",
   "name": "python3"
  },
  "language_info": {
   "codemirror_mode": {
    "name": "ipython",
    "version": 3
   },
   "file_extension": ".py",
   "mimetype": "text/x-python",
   "name": "python",
   "nbconvert_exporter": "python",
   "pygments_lexer": "ipython3",
   "version": "3.10.6"
  },
  "orig_nbformat": 4,
  "vscode": {
   "interpreter": {
    "hash": "916dbcbb3f70747c44a77c7bcd40155683ae19c65e1c03b4aa3499c5328201f1"
   }
  }
 },
 "nbformat": 4,
 "nbformat_minor": 2
}
