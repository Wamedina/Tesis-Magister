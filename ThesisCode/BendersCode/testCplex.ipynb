{
 "cells": [
  {
   "cell_type": "code",
   "execution_count": 1,
   "metadata": {},
   "outputs": [
    {
     "name": "stdout",
     "output_type": "stream",
     "text": [
      "PYTHONPATH=\"/home/williams/.vscode/extensions/ms-toolsai.jupyter-2022.9.1002791758/pythonFiles:/home/williams/.vscode/extensions/ms-toolsai.jupyter-2022.9.1002791758/pythonFiles/lib/python\"\n"
     ]
    }
   ],
   "source": [
    "import os\n",
    "print('PYTHONPATH=\"%s\"' % os.environ['PYTHONPATH'])"
   ]
  },
  {
   "cell_type": "code",
   "execution_count": 2,
   "metadata": {},
   "outputs": [
    {
     "name": "stderr",
     "output_type": "stream",
     "text": [
      "/home/williams/anaconda3/lib/python3.9/site-packages/docplex-2.9.133-py3.9.egg/docplex/cp/__init__.py:30: RuntimeWarning: DOcplex.CP is supported by Python versions 2.7.9+, 3.4.x, to 3.7.x, not '3.9.12.final.0'. Use it at your own risk.\n",
      "  warnings.warn(msg, RuntimeWarning)\n"
     ]
    }
   ],
   "source": [
    "from docplex.cp.model import CpoModel\n",
    "from collections import namedtuple\n",
    "\n",
    "#-----------------------------------------------------------------------------\n",
    "# Initialize the problem data\n",
    "#-----------------------------------------------------------------------------\n",
    "\n",
    "Warehouse = namedtuple('Warehouse', ('city',      # Name of the city\n",
    "                                     'capacity',  # Capacity of the warehouse\n",
    "                                     'cost',      # Warehouse building cost\n",
    "                                     ))\n",
    "\n",
    "# List of warehouses\n",
    "WAREHOUSES = (Warehouse(\"Bonn\",     3, 480),\n",
    "              Warehouse(\"Bordeaux\", 1, 200),\n",
    "              Warehouse(\"London\",   2, 320),\n",
    "              Warehouse(\"Paris\",    4, 340),\n",
    "              Warehouse(\"Rome\",     1, 300))\n",
    "NB_WAREHOUSES = len(WAREHOUSES)\n",
    "\n",
    "# Number of stores\n",
    "NB_STORES = 8\n",
    "\n",
    "# Supply cost for each store and warehouse\n",
    "SUPPLY_COST = ((24, 74, 31, 51, 84),\n",
    "               (57, 54, 86, 61, 68),\n",
    "               (57, 67, 29, 91, 71),\n",
    "               (54, 54, 65, 82, 94),\n",
    "               (98, 81, 16, 61, 27),\n",
    "               (13, 92, 34, 94, 87),\n",
    "               (54, 72, 41, 12, 78),\n",
    "               (54, 64, 65, 89, 89))"
   ]
  },
  {
   "cell_type": "code",
   "execution_count": 3,
   "metadata": {},
   "outputs": [
    {
     "name": "stdout",
     "output_type": "stream",
     "text": [
      "\n",
      "Solving model....\n"
     ]
    },
    {
     "ename": "CpoException",
     "evalue": "Can not execute command 'cpoptimizer -angel'. Please check availability of required executable file.",
     "output_type": "error",
     "traceback": [
      "\u001b[0;31m---------------------------------------------------------------------------\u001b[0m",
      "\u001b[0;31mFileNotFoundError\u001b[0m                         Traceback (most recent call last)",
      "File \u001b[0;32m~/anaconda3/lib/python3.9/site-packages/docplex-2.9.133-py3.9.egg/docplex/cp/solver/solver_local.py:110\u001b[0m, in \u001b[0;36mCpoSolverLocal.__init__\u001b[0;34m(self, solver, params, context)\u001b[0m\n\u001b[1;32m    109\u001b[0m \u001b[39mtry\u001b[39;00m:\n\u001b[0;32m--> 110\u001b[0m     \u001b[39mself\u001b[39m\u001b[39m.\u001b[39mprocess \u001b[39m=\u001b[39m subprocess\u001b[39m.\u001b[39;49mPopen(cmd, stdin\u001b[39m=\u001b[39;49msubprocess\u001b[39m.\u001b[39;49mPIPE, stderr\u001b[39m=\u001b[39;49msubprocess\u001b[39m.\u001b[39;49mSTDOUT, stdout\u001b[39m=\u001b[39;49msubprocess\u001b[39m.\u001b[39;49mPIPE, universal_newlines\u001b[39m=\u001b[39;49m\u001b[39mFalse\u001b[39;49;00m)\n\u001b[1;32m    111\u001b[0m \u001b[39mexcept\u001b[39;00m:\n",
      "File \u001b[0;32m~/anaconda3/lib/python3.9/subprocess.py:951\u001b[0m, in \u001b[0;36mPopen.__init__\u001b[0;34m(self, args, bufsize, executable, stdin, stdout, stderr, preexec_fn, close_fds, shell, cwd, env, universal_newlines, startupinfo, creationflags, restore_signals, start_new_session, pass_fds, user, group, extra_groups, encoding, errors, text, umask)\u001b[0m\n\u001b[1;32m    948\u001b[0m             \u001b[39mself\u001b[39m\u001b[39m.\u001b[39mstderr \u001b[39m=\u001b[39m io\u001b[39m.\u001b[39mTextIOWrapper(\u001b[39mself\u001b[39m\u001b[39m.\u001b[39mstderr,\n\u001b[1;32m    949\u001b[0m                     encoding\u001b[39m=\u001b[39mencoding, errors\u001b[39m=\u001b[39merrors)\n\u001b[0;32m--> 951\u001b[0m     \u001b[39mself\u001b[39;49m\u001b[39m.\u001b[39;49m_execute_child(args, executable, preexec_fn, close_fds,\n\u001b[1;32m    952\u001b[0m                         pass_fds, cwd, env,\n\u001b[1;32m    953\u001b[0m                         startupinfo, creationflags, shell,\n\u001b[1;32m    954\u001b[0m                         p2cread, p2cwrite,\n\u001b[1;32m    955\u001b[0m                         c2pread, c2pwrite,\n\u001b[1;32m    956\u001b[0m                         errread, errwrite,\n\u001b[1;32m    957\u001b[0m                         restore_signals,\n\u001b[1;32m    958\u001b[0m                         gid, gids, uid, umask,\n\u001b[1;32m    959\u001b[0m                         start_new_session)\n\u001b[1;32m    960\u001b[0m \u001b[39mexcept\u001b[39;00m:\n\u001b[1;32m    961\u001b[0m     \u001b[39m# Cleanup if the child failed starting.\u001b[39;00m\n",
      "File \u001b[0;32m~/anaconda3/lib/python3.9/subprocess.py:1821\u001b[0m, in \u001b[0;36mPopen._execute_child\u001b[0;34m(self, args, executable, preexec_fn, close_fds, pass_fds, cwd, env, startupinfo, creationflags, shell, p2cread, p2cwrite, c2pread, c2pwrite, errread, errwrite, restore_signals, gid, gids, uid, umask, start_new_session)\u001b[0m\n\u001b[1;32m   1820\u001b[0m         err_msg \u001b[39m=\u001b[39m os\u001b[39m.\u001b[39mstrerror(errno_num)\n\u001b[0;32m-> 1821\u001b[0m     \u001b[39mraise\u001b[39;00m child_exception_type(errno_num, err_msg, err_filename)\n\u001b[1;32m   1822\u001b[0m \u001b[39mraise\u001b[39;00m child_exception_type(err_msg)\n",
      "\u001b[0;31mFileNotFoundError\u001b[0m: [Errno 2] No such file or directory: 'cpoptimizer'",
      "\nDuring handling of the above exception, another exception occurred:\n",
      "\u001b[0;31mCpoException\u001b[0m                              Traceback (most recent call last)",
      "\u001b[1;32m/home/williams/Tesis-Magister/ThesisCode/BendersCode/testCplex.ipynb Cell 3\u001b[0m in \u001b[0;36m<cell line: 38>\u001b[0;34m()\u001b[0m\n\u001b[1;32m     <a href='vscode-notebook-cell:/home/williams/Tesis-Magister/ThesisCode/BendersCode/testCplex.ipynb#W2sZmlsZQ%3D%3D?line=31'>32</a>\u001b[0m \u001b[39m#-----------------------------------------------------------------------------\u001b[39;00m\n\u001b[1;32m     <a href='vscode-notebook-cell:/home/williams/Tesis-Magister/ThesisCode/BendersCode/testCplex.ipynb#W2sZmlsZQ%3D%3D?line=32'>33</a>\u001b[0m \u001b[39m# Solve the model and display the result\u001b[39;00m\n\u001b[1;32m     <a href='vscode-notebook-cell:/home/williams/Tesis-Magister/ThesisCode/BendersCode/testCplex.ipynb#W2sZmlsZQ%3D%3D?line=33'>34</a>\u001b[0m \u001b[39m#-----------------------------------------------------------------------------\u001b[39;00m\n\u001b[1;32m     <a href='vscode-notebook-cell:/home/williams/Tesis-Magister/ThesisCode/BendersCode/testCplex.ipynb#W2sZmlsZQ%3D%3D?line=34'>35</a>\u001b[0m \n\u001b[1;32m     <a href='vscode-notebook-cell:/home/williams/Tesis-Magister/ThesisCode/BendersCode/testCplex.ipynb#W2sZmlsZQ%3D%3D?line=35'>36</a>\u001b[0m \u001b[39m# Solve model\u001b[39;00m\n\u001b[1;32m     <a href='vscode-notebook-cell:/home/williams/Tesis-Magister/ThesisCode/BendersCode/testCplex.ipynb#W2sZmlsZQ%3D%3D?line=36'>37</a>\u001b[0m \u001b[39mprint\u001b[39m(\u001b[39m\"\u001b[39m\u001b[39m\\n\u001b[39;00m\u001b[39mSolving model....\u001b[39m\u001b[39m\"\u001b[39m)\n\u001b[0;32m---> <a href='vscode-notebook-cell:/home/williams/Tesis-Magister/ThesisCode/BendersCode/testCplex.ipynb#W2sZmlsZQ%3D%3D?line=37'>38</a>\u001b[0m msol \u001b[39m=\u001b[39m mdl\u001b[39m.\u001b[39;49msolve(TimeLimit\u001b[39m=\u001b[39;49m\u001b[39m10\u001b[39;49m)\n\u001b[1;32m     <a href='vscode-notebook-cell:/home/williams/Tesis-Magister/ThesisCode/BendersCode/testCplex.ipynb#W2sZmlsZQ%3D%3D?line=39'>40</a>\u001b[0m \u001b[39m# Print solution\u001b[39;00m\n\u001b[1;32m     <a href='vscode-notebook-cell:/home/williams/Tesis-Magister/ThesisCode/BendersCode/testCplex.ipynb#W2sZmlsZQ%3D%3D?line=40'>41</a>\u001b[0m \u001b[39mif\u001b[39;00m msol:\n",
      "File \u001b[0;32m~/anaconda3/lib/python3.9/site-packages/docplex-2.9.133-py3.9.egg/docplex/cp/model.py:991\u001b[0m, in \u001b[0;36mCpoModel.solve\u001b[0;34m(self, **kwargs)\u001b[0m\n\u001b[1;32m    954\u001b[0m \u001b[39mdef\u001b[39;00m \u001b[39msolve\u001b[39m(\u001b[39mself\u001b[39m, \u001b[39m*\u001b[39m\u001b[39m*\u001b[39mkwargs):\n\u001b[1;32m    955\u001b[0m     \u001b[39m\"\"\" Solves the model.\u001b[39;00m\n\u001b[1;32m    956\u001b[0m \n\u001b[1;32m    957\u001b[0m \u001b[39m    This method solves the model using the appropriate :class:`~docplex.cp.solver.solver.CpoSolver`\u001b[39;00m\n\u001b[0;32m   (...)\u001b[0m\n\u001b[1;32m    989\u001b[0m \u001b[39m        :class:`~docplex.cp.utils.CpoException`: (or derived) if error.\u001b[39;00m\n\u001b[1;32m    990\u001b[0m \u001b[39m    \"\"\"\u001b[39;00m\n\u001b[0;32m--> 991\u001b[0m     solver \u001b[39m=\u001b[39m \u001b[39mself\u001b[39;49m\u001b[39m.\u001b[39;49m_create_solver(\u001b[39m*\u001b[39;49m\u001b[39m*\u001b[39;49mkwargs)\n\u001b[1;32m    992\u001b[0m     msol \u001b[39m=\u001b[39m solver\u001b[39m.\u001b[39msolve()\n\u001b[1;32m    993\u001b[0m     solver\u001b[39m.\u001b[39mend()\n",
      "File \u001b[0;32m~/anaconda3/lib/python3.9/site-packages/docplex-2.9.133-py3.9.egg/docplex/cp/model.py:1407\u001b[0m, in \u001b[0;36mCpoModel._create_solver\u001b[0;34m(self, **kwargs)\u001b[0m\n\u001b[1;32m   1399\u001b[0m \u001b[39mdef\u001b[39;00m \u001b[39m_create_solver\u001b[39m(\u001b[39mself\u001b[39m, \u001b[39m*\u001b[39m\u001b[39m*\u001b[39mkwargs):\n\u001b[1;32m   1400\u001b[0m     \u001b[39m\"\"\" Create a new solver instance attached to this model\u001b[39;00m\n\u001b[1;32m   1401\u001b[0m \n\u001b[1;32m   1402\u001b[0m \u001b[39m    Args:\u001b[39;00m\n\u001b[0;32m   (...)\u001b[0m\n\u001b[1;32m   1405\u001b[0m \u001b[39m        New solver properly initialized.\u001b[39;00m\n\u001b[1;32m   1406\u001b[0m \u001b[39m    \"\"\"\u001b[39;00m\n\u001b[0;32m-> 1407\u001b[0m     solver \u001b[39m=\u001b[39m CpoSolver(\u001b[39mself\u001b[39;49m, \u001b[39m*\u001b[39;49m\u001b[39m*\u001b[39;49mkwargs)\n\u001b[1;32m   1408\u001b[0m     \u001b[39mfor\u001b[39;00m l \u001b[39min\u001b[39;00m \u001b[39mself\u001b[39m\u001b[39m.\u001b[39mlisteners:\n\u001b[1;32m   1409\u001b[0m         solver\u001b[39m.\u001b[39madd_listener(l)\n",
      "File \u001b[0;32m~/anaconda3/lib/python3.9/site-packages/docplex-2.9.133-py3.9.egg/docplex/cp/solver/solver.py:435\u001b[0m, in \u001b[0;36mCpoSolver.__init__\u001b[0;34m(self, model, **kwargs)\u001b[0m\n\u001b[1;32m    432\u001b[0m \u001b[39mself\u001b[39m\u001b[39m.\u001b[39mcontext \u001b[39m=\u001b[39m context\n\u001b[1;32m    434\u001b[0m \u001b[39m# Determine appropriate solver agent\u001b[39;00m\n\u001b[0;32m--> 435\u001b[0m \u001b[39mself\u001b[39m\u001b[39m.\u001b[39magent \u001b[39m=\u001b[39m \u001b[39mself\u001b[39;49m\u001b[39m.\u001b[39;49m_get_solver_agent()\n\u001b[1;32m    437\u001b[0m \u001b[39m# Add configured default listeners if any\u001b[39;00m\n\u001b[1;32m    438\u001b[0m \u001b[39m# Note: calling solver_created() is not required as it is done by add_listener().\u001b[39;00m\n\u001b[1;32m    439\u001b[0m lstnrs \u001b[39m=\u001b[39m context\u001b[39m.\u001b[39msolver\u001b[39m.\u001b[39mlisteners\n",
      "File \u001b[0;32m~/anaconda3/lib/python3.9/site-packages/docplex-2.9.133-py3.9.egg/docplex/cp/solver/solver.py:942\u001b[0m, in \u001b[0;36mCpoSolver._get_solver_agent\u001b[0;34m(self)\u001b[0m\n\u001b[1;32m    940\u001b[0m \u001b[39mif\u001b[39;00m is_string(alist):\n\u001b[1;32m    941\u001b[0m     aname \u001b[39m=\u001b[39m alist\n\u001b[0;32m--> 942\u001b[0m     agent \u001b[39m=\u001b[39m \u001b[39mself\u001b[39;49m\u001b[39m.\u001b[39;49m_create_solver_agent(alist)\n\u001b[1;32m    943\u001b[0m \u001b[39melse\u001b[39;00m:\n\u001b[1;32m    944\u001b[0m     \u001b[39m# Search first available agent in the list\u001b[39;00m\n\u001b[1;32m    945\u001b[0m     agent \u001b[39m=\u001b[39m \u001b[39mNone\u001b[39;00m\n",
      "File \u001b[0;32m~/anaconda3/lib/python3.9/site-packages/docplex-2.9.133-py3.9.egg/docplex/cp/solver/solver.py:996\u001b[0m, in \u001b[0;36mCpoSolver._create_solver_agent\u001b[0;34m(self, aname)\u001b[0m\n\u001b[1;32m    993\u001b[0m     \u001b[39mraise\u001b[39;00m CpoException(\u001b[39m\"\u001b[39m\u001b[39mSolver agent class \u001b[39m\u001b[39m'\u001b[39m\u001b[39m{}\u001b[39;00m\u001b[39m'\u001b[39m\u001b[39m should extend CpoSolverAgent.\u001b[39m\u001b[39m\"\u001b[39m\u001b[39m.\u001b[39mformat(cpath))\n\u001b[1;32m    995\u001b[0m \u001b[39m# Create agent instance\u001b[39;00m\n\u001b[0;32m--> 996\u001b[0m agent \u001b[39m=\u001b[39m sclass(\u001b[39mself\u001b[39;49m, sctx\u001b[39m.\u001b[39;49mparams, sctx)\n\u001b[1;32m    997\u001b[0m \u001b[39mreturn\u001b[39;00m agent\n",
      "File \u001b[0;32m~/anaconda3/lib/python3.9/site-packages/docplex-2.9.133-py3.9.egg/docplex/cp/solver/solver_local.py:112\u001b[0m, in \u001b[0;36mCpoSolverLocal.__init__\u001b[0;34m(self, solver, params, context)\u001b[0m\n\u001b[1;32m    110\u001b[0m     \u001b[39mself\u001b[39m\u001b[39m.\u001b[39mprocess \u001b[39m=\u001b[39m subprocess\u001b[39m.\u001b[39mPopen(cmd, stdin\u001b[39m=\u001b[39msubprocess\u001b[39m.\u001b[39mPIPE, stderr\u001b[39m=\u001b[39msubprocess\u001b[39m.\u001b[39mSTDOUT, stdout\u001b[39m=\u001b[39msubprocess\u001b[39m.\u001b[39mPIPE, universal_newlines\u001b[39m=\u001b[39m\u001b[39mFalse\u001b[39;00m)\n\u001b[1;32m    111\u001b[0m \u001b[39mexcept\u001b[39;00m:\n\u001b[0;32m--> 112\u001b[0m     \u001b[39mraise\u001b[39;00m CpoException(\u001b[39m\"\u001b[39m\u001b[39mCan not execute command \u001b[39m\u001b[39m'\u001b[39m\u001b[39m{}\u001b[39;00m\u001b[39m'\u001b[39m\u001b[39m. Please check availability of required executable file.\u001b[39m\u001b[39m\"\u001b[39m\u001b[39m.\u001b[39mformat(\u001b[39m'\u001b[39m\u001b[39m \u001b[39m\u001b[39m'\u001b[39m\u001b[39m.\u001b[39mjoin(cmd)))\n\u001b[1;32m    113\u001b[0m \u001b[39mself\u001b[39m\u001b[39m.\u001b[39mpout \u001b[39m=\u001b[39m \u001b[39mself\u001b[39m\u001b[39m.\u001b[39mprocess\u001b[39m.\u001b[39mstdin\n\u001b[1;32m    114\u001b[0m \u001b[39mself\u001b[39m\u001b[39m.\u001b[39mpin \u001b[39m=\u001b[39m \u001b[39mself\u001b[39m\u001b[39m.\u001b[39mprocess\u001b[39m.\u001b[39mstdout\n",
      "\u001b[0;31mCpoException\u001b[0m: Can not execute command 'cpoptimizer -angel'. Please check availability of required executable file."
     ]
    }
   ],
   "source": [
    "#-----------------------------------------------------------------------------\n",
    "# Build the model\n",
    "#-----------------------------------------------------------------------------\n",
    "\n",
    "# Create CPO model\n",
    "mdl = CpoModel()\n",
    "\n",
    "# Create one variable per store to contain the index of its supplying warehouse\n",
    "NB_WAREHOUSES = len(WAREHOUSES)\n",
    "supplier = mdl.integer_var_list(NB_STORES, 0, NB_WAREHOUSES - 1, \"supplier\")\n",
    "\n",
    "# Create one variable per warehouse to indicate if it is open (1) or not (0)\n",
    "open = mdl.integer_var_list(NB_WAREHOUSES, 0, 1, \"open\")\n",
    "\n",
    "# Add constraints stating that the supplying warehouse of each store must be open\n",
    "for s in supplier:\n",
    "    mdl.add(mdl.element(open, s) == 1)\n",
    "\n",
    "# Add constraints stating that the number of stores supplied by each warehouse must not exceed its capacity\n",
    "for wx in range(NB_WAREHOUSES):\n",
    "    mdl.add(mdl.count(supplier, wx) <= WAREHOUSES[wx].capacity)\n",
    "\n",
    "# Build an expression that computes total cost\n",
    "total_cost = mdl.scal_prod(open, [w.cost for w in WAREHOUSES])\n",
    "for sx in range(NB_STORES):\n",
    "    total_cost = total_cost + mdl.element(supplier[sx], SUPPLY_COST[sx])\n",
    "\n",
    "# Minimize total cost\n",
    "mdl.add(mdl.minimize(total_cost))\n",
    " \n",
    "\n",
    "#-----------------------------------------------------------------------------\n",
    "# Solve the model and display the result\n",
    "#-----------------------------------------------------------------------------\n",
    "\n",
    "# Solve model\n",
    "print(\"\\nSolving model....\")\n",
    "msol = mdl.solve(TimeLimit=10)\n",
    "\n",
    "# Print solution\n",
    "if msol:\n",
    "    for wx in range(NB_WAREHOUSES):\n",
    "        if msol[open[wx]] == 1:\n",
    "            print(\"Warehouse '{}' open to supply stores: {}\"\n",
    "                  .format(WAREHOUSES[wx].city,\n",
    "                          \", \".join(str(sx) for sx in range(NB_STORES) if msol[supplier[sx]] == wx)))\n",
    "    print(\"Total cost is: {}\".format(msol.get_objective_values()[0]))\n",
    "else:\n",
    "    print(\"No solution found.\")"
   ]
  },
  {
   "cell_type": "code",
   "execution_count": null,
   "metadata": {},
   "outputs": [],
   "source": []
  }
 ],
 "metadata": {
  "kernelspec": {
   "display_name": "Python 3.9.12 ('base')",
   "language": "python",
   "name": "python3"
  },
  "language_info": {
   "codemirror_mode": {
    "name": "ipython",
    "version": 3
   },
   "file_extension": ".py",
   "mimetype": "text/x-python",
   "name": "python",
   "nbconvert_exporter": "python",
   "pygments_lexer": "ipython3",
   "version": "3.9.12"
  },
  "orig_nbformat": 4,
  "vscode": {
   "interpreter": {
    "hash": "1b47a502a014472f1947b005fecad4365c8ada52d4e92c6760b1013e9663de05"
   }
  }
 },
 "nbformat": 4,
 "nbformat_minor": 2
}
