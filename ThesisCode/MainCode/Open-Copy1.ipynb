{
 "cells": [
  {
   "cell_type": "code",
   "execution_count": 1,
   "id": "64453ee7",
   "metadata": {},
   "outputs": [
    {
     "name": "stdout",
     "output_type": "stream",
     "text": [
      "Setting MineDatabases\n",
      "estoy actualizado\n",
      "Set parameter Username\n",
      "Academic license - for non-commercial use only - expires 2022-06-09\n",
      "Set parameter MIPGap to value 0.01\n",
      "Gurobi Optimizer version 9.5.0 build v9.5.0rc5 (win64)\n",
      "Thread count: 12 physical cores, 20 logical processors, using up to 20 threads\n",
      "Optimize a model with 5935642 rows, 15052800 columns and 223269645 nonzeros\n",
      "Model fingerprint: 0x0a08633c\n",
      "Variable types: 0 continuous, 15052800 integer (15052800 binary)\n",
      "Coefficient statistics:\n",
      "  Matrix range     [3e-03, 3e+03]\n",
      "  Objective range  [2e-01, 2e+05]\n",
      "  Bounds range     [1e+00, 1e+00]\n",
      "  RHS range        [1e+00, 9e+06]\n",
      "Presolve removed 0 rows and 0 columns (presolve time = 38s) ...\n",
      "Presolve removed 12544 rows and 0 columns (presolve time = 45s) ...\n",
      "Presolve removed 12544 rows and 0 columns (presolve time = 49s) ...\n",
      "Presolve removed 12544 rows and 0 columns (presolve time = 63s) ...\n",
      "Presolve removed 12574 rows and 0 columns (presolve time = 69s) ...\n",
      "Presolve removed 12574 rows and 0 columns (presolve time = 74s) ...\n",
      "Presolve removed 12574 rows and 0 columns (presolve time = 79s) ...\n",
      "Presolve removed 12574 rows and 0 columns (presolve time = 101s) ...\n",
      "Presolve removed 12574 rows and 0 columns (presolve time = 112s) ...\n",
      "Presolve removed 12574 rows and 0 columns (presolve time = 125s) ...\n",
      "Presolve removed 12574 rows and 0 columns (presolve time = 142s) ...\n",
      "Presolve removed 12574 rows and 0 columns (presolve time = 171s) ...\n",
      "Presolve removed 12574 rows and 0 columns (presolve time = 176s) ...\n",
      "Presolve removed 12574 rows and 0 columns (presolve time = 187s) ...\n",
      "Presolve removed 12574 rows and 0 columns (presolve time = 191s) ...\n",
      "Presolve removed 12574 rows and 0 columns (presolve time = 235s) ...\n",
      "Presolve removed 12574 rows and 0 columns (presolve time = 279s) ...\n",
      "Presolve removed 12574 rows and 0 columns (presolve time = 280s) ...\n",
      "Presolve removed 12574 rows and 0 columns (presolve time = 285s) ...\n",
      "Presolve removed 12574 rows and 0 columns (presolve time = 290s) ...\n",
      "Presolve removed 12574 rows and 0 columns (presolve time = 296s) ...\n",
      "Presolve removed 12574 rows and 0 columns (presolve time = 300s) ...\n",
      "Presolve removed 12574 rows and 0 columns (presolve time = 305s) ...\n",
      "Presolve removed 12574 rows and 0 columns (presolve time = 355s) ...\n",
      "Presolve removed 12574 rows and 0 columns (presolve time = 374s) ...\n",
      "Presolve removed 12574 rows and 0 columns (presolve time = 397s) ...\n",
      "Presolve removed 12574 rows and 0 columns (presolve time = 434s) ...\n",
      "Presolve removed 12574 rows and 0 columns (presolve time = 435s) ...\n",
      "Presolve removed 12574 rows and 0 columns (presolve time = 440s) ...\n",
      "Presolve removed 12574 rows and 0 columns (presolve time = 445s) ...\n",
      "Presolve removed 12574 rows and 0 columns (presolve time = 461s) ...\n",
      "Presolve removed 12574 rows and 0 columns (presolve time = 465s) ...\n",
      "Presolve removed 12574 rows and 0 columns (presolve time = 470s) ...\n",
      "Presolve removed 12574 rows and 0 columns (presolve time = 475s) ...\n",
      "Presolve removed 12574 rows and 0 columns (presolve time = 480s) ...\n",
      "Presolve removed 12574 rows and 0 columns (presolve time = 485s) ...\n",
      "Presolve removed 12574 rows and 0 columns (presolve time = 507s) ...\n",
      "Presolve removed 12574 rows and 0 columns (presolve time = 510s) ...\n",
      "Presolve removed 12574 rows and 0 columns (presolve time = 515s) ...\n",
      "Presolve removed 12574 rows and 0 columns (presolve time = 520s) ...\n",
      "Presolve removed 12574 rows and 0 columns (presolve time = 525s) ...\n",
      "Presolve removed 12574 rows and 0 columns (presolve time = 530s) ...\n",
      "Presolve removed 12574 rows and 0 columns (presolve time = 535s) ...\n",
      "Presolve removed 12574 rows and 0 columns (presolve time = 540s) ...\n",
      "Presolve removed 12574 rows and 0 columns (presolve time = 556s) ...\n",
      "Presolve removed 12574 rows and 0 columns (presolve time = 563s) ...\n",
      "Presolve removed 12604 rows and 0 columns (presolve time = 614s) ...\n",
      "Presolve removed 12604 rows and 0 columns (presolve time = 645s) ...\n",
      "Presolve removed 12604 rows and 0 columns (presolve time = 650s) ...\n",
      "Presolve removed 12604 rows and 0 columns (presolve time = 655s) ...\n",
      "Presolve removed 12604 rows and 0 columns (presolve time = 660s) ...\n",
      "Presolve removed 12604 rows and 0 columns (presolve time = 665s) ...\n",
      "Presolve removed 12604 rows and 0 columns (presolve time = 670s) ...\n",
      "Presolve removed 12604 rows and 0 columns (presolve time = 675s) ...\n",
      "Presolve removed 12604 rows and 0 columns (presolve time = 680s) ...\n",
      "Presolve removed 12604 rows and 0 columns (presolve time = 685s) ...\n",
      "Presolve removed 12604 rows and 0 columns (presolve time = 690s) ...\n",
      "Presolve removed 12604 rows and 0 columns (presolve time = 695s) ...\n",
      "Presolve removed 12604 rows and 0 columns (presolve time = 700s) ...\n",
      "Presolve removed 12604 rows and 0 columns (presolve time = 705s) ...\n",
      "Presolve removed 12604 rows and 0 columns (presolve time = 710s) ...\n",
      "Presolve removed 12604 rows and 0 columns (presolve time = 715s) ...\n",
      "Presolve removed 12604 rows and 0 columns (presolve time = 720s) ...\n",
      "Presolve removed 12604 rows and 0 columns (presolve time = 725s) ...\n",
      "Presolve removed 12604 rows and 0 columns (presolve time = 730s) ...\n",
      "Presolve removed 12604 rows and 0 columns (presolve time = 735s) ...\n",
      "Presolve removed 12604 rows and 0 columns (presolve time = 740s) ...\n",
      "Presolve removed 12604 rows and 0 columns (presolve time = 745s) ...\n",
      "Presolve removed 12604 rows and 0 columns (presolve time = 750s) ...\n",
      "Presolve removed 12604 rows and 0 columns (presolve time = 755s) ...\n",
      "Presolve removed 12604 rows and 0 columns (presolve time = 760s) ...\n",
      "Presolve removed 12604 rows and 0 columns (presolve time = 765s) ...\n",
      "Presolve removed 12604 rows and 0 columns (presolve time = 770s) ...\n",
      "Presolve removed 12604 rows and 0 columns (presolve time = 775s) ...\n",
      "Presolve removed 12604 rows and 0 columns (presolve time = 780s) ...\n",
      "Presolve removed 12604 rows and 0 columns (presolve time = 785s) ...\n",
      "Presolve removed 12604 rows and 0 columns (presolve time = 790s) ...\n",
      "Presolve removed 12604 rows and 0 columns (presolve time = 795s) ...\n",
      "Presolve removed 12604 rows and 0 columns (presolve time = 800s) ...\n",
      "Presolve removed 12604 rows and 0 columns (presolve time = 805s) ...\n",
      "Presolve removed 12604 rows and 0 columns (presolve time = 810s) ...\n",
      "Presolve removed 12604 rows and 0 columns (presolve time = 815s) ...\n",
      "Presolve removed 12604 rows and 0 columns (presolve time = 820s) ...\n",
      "Presolve removed 12604 rows and 0 columns (presolve time = 825s) ...\n",
      "Presolve removed 12604 rows and 0 columns (presolve time = 830s) ...\n",
      "Presolve removed 12604 rows and 0 columns (presolve time = 835s) ...\n",
      "Presolve removed 12604 rows and 0 columns (presolve time = 840s) ...\n",
      "Presolve removed 12604 rows and 0 columns (presolve time = 845s) ...\n",
      "Presolve removed 12604 rows and 0 columns (presolve time = 850s) ...\n",
      "Presolve removed 12604 rows and 0 columns (presolve time = 855s) ...\n",
      "Presolve removed 12604 rows and 0 columns (presolve time = 860s) ...\n",
      "Presolve removed 12604 rows and 0 columns (presolve time = 865s) ...\n",
      "Presolve removed 12604 rows and 0 columns (presolve time = 870s) ...\n",
      "Presolve removed 12604 rows and 0 columns (presolve time = 875s) ...\n",
      "Presolve removed 12604 rows and 0 columns (presolve time = 880s) ...\n",
      "Presolve removed 12604 rows and 0 columns (presolve time = 885s) ...\n",
      "Presolve removed 12604 rows and 0 columns (presolve time = 890s) ...\n",
      "Presolve removed 12604 rows and 0 columns (presolve time = 895s) ...\n",
      "Presolve removed 12604 rows and 0 columns (presolve time = 900s) ...\n",
      "Presolve removed 12604 rows and 0 columns (presolve time = 905s) ...\n",
      "Presolve removed 12604 rows and 0 columns (presolve time = 910s) ...\n",
      "Presolve removed 12604 rows and 0 columns (presolve time = 915s) ...\n",
      "Presolve removed 12604 rows and 0 columns (presolve time = 920s) ...\n",
      "Presolve removed 12604 rows and 0 columns (presolve time = 925s) ...\n",
      "Presolve removed 12604 rows and 0 columns (presolve time = 930s) ...\n",
      "Presolve removed 12604 rows and 0 columns (presolve time = 935s) ...\n",
      "Presolve removed 12604 rows and 0 columns (presolve time = 940s) ...\n",
      "Presolve removed 12604 rows and 0 columns (presolve time = 945s) ...\n",
      "Presolve removed 12604 rows and 0 columns (presolve time = 963s) ...\n",
      "Presolve removed 12604 rows and 0 columns (presolve time = 973s) ...\n"
     ]
    },
    {
     "name": "stdout",
     "output_type": "stream",
     "text": [
      "Presolve removed 12604 rows and 0 columns (presolve time = 976s) ...\n",
      "Presolve removed 12604 rows and 0 columns (presolve time = 990s) ...\n",
      "Presolve added 0 rows and 15 columns\n",
      "Presolve removed 12589 rows and 0 columns\n",
      "Presolve time: 994.75s\n",
      "\n",
      "Explored 0 nodes (0 simplex iterations) in 1121.13 seconds (440.97 work units)\n",
      "Thread count was 1 (of 20 available processors)\n",
      "\n",
      "Solution count 0\n",
      "\n",
      "Best objective -, best bound -, gap -\n"
     ]
    },
    {
     "ename": "GurobiError",
     "evalue": "Out of memory",
     "output_type": "error",
     "traceback": [
      "\u001b[1;31m---------------------------------------------------------------------------\u001b[0m",
      "\u001b[1;31mGurobiError\u001b[0m                               Traceback (most recent call last)",
      "\u001b[1;32m~\\AppData\\Local\\Temp\\ipykernel_1332\\1380056161.py\u001b[0m in \u001b[0;36m<module>\u001b[1;34m\u001b[0m\n\u001b[0;32m     80\u001b[0m \u001b[0mopenPitDatabaseName\u001b[0m \u001b[1;33m=\u001b[0m \u001b[1;34m'Modelo_F_OG.xlsx'\u001b[0m\u001b[1;33m\u001b[0m\u001b[1;33m\u001b[0m\u001b[0m\n\u001b[0;32m     81\u001b[0m \u001b[0mmain\u001b[0m \u001b[1;33m=\u001b[0m \u001b[0mMain\u001b[0m\u001b[1;33m(\u001b[0m\u001b[0mpath\u001b[0m\u001b[1;33m,\u001b[0m \u001b[0mundergroundDatabaseName\u001b[0m\u001b[1;33m,\u001b[0m \u001b[0mopenPitDatabaseName\u001b[0m\u001b[1;33m)\u001b[0m\u001b[1;33m\u001b[0m\u001b[1;33m\u001b[0m\u001b[0m\n\u001b[1;32m---> 82\u001b[1;33m \u001b[0mmain\u001b[0m\u001b[1;33m.\u001b[0m\u001b[0mexecute\u001b[0m\u001b[1;33m(\u001b[0m\u001b[1;33m)\u001b[0m\u001b[1;33m\u001b[0m\u001b[1;33m\u001b[0m\u001b[0m\n\u001b[0m",
      "\u001b[1;32m~\\AppData\\Local\\Temp\\ipykernel_1332\\1380056161.py\u001b[0m in \u001b[0;36mexecute\u001b[1;34m(self)\u001b[0m\n\u001b[0;32m     20\u001b[0m         \u001b[0mself\u001b[0m\u001b[1;33m.\u001b[0m\u001b[0msetMineDatabases\u001b[0m\u001b[1;33m(\u001b[0m\u001b[1;33m)\u001b[0m\u001b[1;33m\u001b[0m\u001b[1;33m\u001b[0m\u001b[0m\n\u001b[0;32m     21\u001b[0m         \u001b[0mself\u001b[0m\u001b[1;33m.\u001b[0m\u001b[0mcreateModels\u001b[0m\u001b[1;33m(\u001b[0m\u001b[1;33m)\u001b[0m\u001b[1;33m\u001b[0m\u001b[1;33m\u001b[0m\u001b[0m\n\u001b[1;32m---> 22\u001b[1;33m         \u001b[0mself\u001b[0m\u001b[1;33m.\u001b[0m\u001b[0mgetResults\u001b[0m\u001b[1;33m(\u001b[0m\u001b[1;33m)\u001b[0m\u001b[1;33m\u001b[0m\u001b[1;33m\u001b[0m\u001b[0m\n\u001b[0m\u001b[0;32m     23\u001b[0m \u001b[1;33m\u001b[0m\u001b[0m\n\u001b[0;32m     24\u001b[0m         \u001b[1;31m#plotResults(self.variableValues, self.CA_blocks, self.openPitBlocksLenghtLimits, self.openPitBlocksWidthLimits,\u001b[0m\u001b[1;33m\u001b[0m\u001b[1;33m\u001b[0m\u001b[1;33m\u001b[0m\u001b[0m\n",
      "\u001b[1;32m~\\AppData\\Local\\Temp\\ipykernel_1332\\1380056161.py\u001b[0m in \u001b[0;36mgetResults\u001b[1;34m(self)\u001b[0m\n\u001b[0;32m     71\u001b[0m     \u001b[1;32mdef\u001b[0m \u001b[0mgetResults\u001b[0m\u001b[1;33m(\u001b[0m\u001b[0mself\u001b[0m\u001b[1;33m)\u001b[0m\u001b[1;33m:\u001b[0m\u001b[1;33m\u001b[0m\u001b[1;33m\u001b[0m\u001b[0m\n\u001b[0;32m     72\u001b[0m         \u001b[1;32mfor\u001b[0m \u001b[0mmodel\u001b[0m \u001b[1;32min\u001b[0m \u001b[0mself\u001b[0m\u001b[1;33m.\u001b[0m\u001b[0mmodels\u001b[0m\u001b[1;33m:\u001b[0m\u001b[1;33m\u001b[0m\u001b[1;33m\u001b[0m\u001b[0m\n\u001b[1;32m---> 73\u001b[1;33m             \u001b[0mself\u001b[0m\u001b[1;33m.\u001b[0m\u001b[0mobjValue\u001b[0m\u001b[1;33m,\u001b[0m \u001b[0mself\u001b[0m\u001b[1;33m.\u001b[0m\u001b[0mvariableValues\u001b[0m\u001b[1;33m,\u001b[0m \u001b[0mself\u001b[0m\u001b[1;33m.\u001b[0m\u001b[0mruntime\u001b[0m\u001b[1;33m,\u001b[0m \u001b[0mself\u001b[0m\u001b[1;33m.\u001b[0m\u001b[0mgap\u001b[0m \u001b[1;33m=\u001b[0m \u001b[0mmodel\u001b[0m\u001b[1;33m.\u001b[0m\u001b[0mexecute\u001b[0m\u001b[1;33m(\u001b[0m\u001b[1;33m)\u001b[0m\u001b[1;33m\u001b[0m\u001b[1;33m\u001b[0m\u001b[0m\n\u001b[0m\u001b[0;32m     74\u001b[0m             \u001b[0mprint\u001b[0m\u001b[1;33m(\u001b[0m\u001b[1;34m\"Objective Value: {} RunTime: {} GAP: {}\"\u001b[0m \u001b[1;33m.\u001b[0m\u001b[0mformat\u001b[0m\u001b[1;33m(\u001b[0m\u001b[0mself\u001b[0m\u001b[1;33m.\u001b[0m\u001b[0mobjValue\u001b[0m\u001b[1;33m,\u001b[0m \u001b[0mself\u001b[0m\u001b[1;33m.\u001b[0m\u001b[0mruntime\u001b[0m\u001b[1;33m,\u001b[0m \u001b[0mself\u001b[0m\u001b[1;33m.\u001b[0m\u001b[0mgap\u001b[0m\u001b[1;33m)\u001b[0m\u001b[1;33m)\u001b[0m\u001b[1;33m\u001b[0m\u001b[1;33m\u001b[0m\u001b[0m\n\u001b[0;32m     75\u001b[0m \u001b[1;33m\u001b[0m\u001b[0m\n",
      "\u001b[1;32m~\\Desktop\\Tesis Magister\\Magister\\ThesisCode\\MainCode\\openPitModel.py\u001b[0m in \u001b[0;36mexecute\u001b[1;34m(self)\u001b[0m\n\u001b[0;32m     18\u001b[0m       \u001b[0mself\u001b[0m\u001b[1;33m.\u001b[0m\u001b[0msetOpenPitMineLimits\u001b[0m\u001b[1;33m(\u001b[0m\u001b[1;33m)\u001b[0m\u001b[1;33m\u001b[0m\u001b[1;33m\u001b[0m\u001b[0m\n\u001b[0;32m     19\u001b[0m       \u001b[1;31m#self.setFinalParameters()\u001b[0m\u001b[1;33m\u001b[0m\u001b[1;33m\u001b[0m\u001b[1;33m\u001b[0m\u001b[0m\n\u001b[1;32m---> 20\u001b[1;33m       \u001b[0mself\u001b[0m\u001b[1;33m.\u001b[0m\u001b[0msetModelAndGetResults\u001b[0m\u001b[1;33m(\u001b[0m\u001b[1;33m)\u001b[0m\u001b[1;33m\u001b[0m\u001b[1;33m\u001b[0m\u001b[0m\n\u001b[0m\u001b[0;32m     21\u001b[0m       \u001b[1;32mreturn\u001b[0m \u001b[0mself\u001b[0m\u001b[1;33m.\u001b[0m\u001b[0mobjValue\u001b[0m\u001b[1;33m,\u001b[0m \u001b[0mself\u001b[0m\u001b[1;33m.\u001b[0m\u001b[0mvariableValues\u001b[0m\u001b[1;33m,\u001b[0m \u001b[0mself\u001b[0m\u001b[1;33m.\u001b[0m\u001b[0mruntime\u001b[0m\u001b[1;33m,\u001b[0m \u001b[0mself\u001b[0m\u001b[1;33m.\u001b[0m\u001b[0mgap\u001b[0m\u001b[1;33m\u001b[0m\u001b[1;33m\u001b[0m\u001b[0m\n\u001b[0;32m     22\u001b[0m \u001b[1;33m\u001b[0m\u001b[0m\n",
      "\u001b[1;32m~\\Desktop\\Tesis Magister\\Magister\\ThesisCode\\MainCode\\openPitModel.py\u001b[0m in \u001b[0;36msetModelAndGetResults\u001b[1;34m(self)\u001b[0m\n\u001b[0;32m     58\u001b[0m                                                                   \u001b[0mself\u001b[0m\u001b[1;33m.\u001b[0m\u001b[0mopenPitBlockTonnage\u001b[0m\u001b[1;33m,\u001b[0m \u001b[0mself\u001b[0m\u001b[1;33m.\u001b[0m\u001b[0mopenPitBlockMineral\u001b[0m\u001b[1;33m,\u001b[0m \u001b[0mself\u001b[0m\u001b[1;33m.\u001b[0m\u001b[0mopenPitCopperLaw\u001b[0m\u001b[1;33m,\u001b[0m \u001b[0mself\u001b[0m\u001b[1;33m.\u001b[0m\u001b[0mopenPitMineCapacity\u001b[0m\u001b[1;33m,\u001b[0m\u001b[0mself\u001b[0m\u001b[1;33m.\u001b[0m\u001b[0mopenPitPlantCapacity\u001b[0m\u001b[1;33m,\u001b[0m\u001b[1;33m\u001b[0m\u001b[1;33m\u001b[0m\u001b[0m\n\u001b[0;32m     59\u001b[0m                                                                   \u001b[0mself\u001b[0m\u001b[1;33m.\u001b[0m\u001b[0mt_C\u001b[0m\u001b[1;33m,\u001b[0m\u001b[0mself\u001b[0m\u001b[1;33m.\u001b[0m\u001b[0mRMu_t\u001b[0m\u001b[1;33m,\u001b[0m\u001b[0mself\u001b[0m\u001b[1;33m.\u001b[0m\u001b[0mRMl_t\u001b[0m\u001b[1;33m,\u001b[0m\u001b[0mself\u001b[0m\u001b[1;33m.\u001b[0m\u001b[0mRPu_t\u001b[0m\u001b[1;33m,\u001b[0m\u001b[0mself\u001b[0m\u001b[1;33m.\u001b[0m\u001b[0mRPl_t\u001b[0m\u001b[1;33m,\u001b[0m\u001b[0mself\u001b[0m\u001b[1;33m.\u001b[0m\u001b[0mqu_t\u001b[0m\u001b[1;33m,\u001b[0m\u001b[0mself\u001b[0m\u001b[1;33m.\u001b[0m\u001b[0mql_t\u001b[0m\u001b[1;33m,\u001b[0m\u001b[0mself\u001b[0m\u001b[1;33m.\u001b[0m\u001b[0mmaxTimeOpenPit\u001b[0m\u001b[1;33m,\u001b[0m\u001b[1;33m\u001b[0m\u001b[1;33m\u001b[0m\u001b[0m\n\u001b[1;32m---> 60\u001b[1;33m                                                                   self.basePrice)\n\u001b[0m\u001b[0;32m     61\u001b[0m \u001b[1;33m\u001b[0m\u001b[0m\n\u001b[0;32m     62\u001b[0m    \u001b[1;32mdef\u001b[0m \u001b[0msetPredecessorBlock\u001b[0m\u001b[1;33m(\u001b[0m\u001b[0mself\u001b[0m\u001b[1;33m)\u001b[0m\u001b[1;33m:\u001b[0m\u001b[1;33m\u001b[0m\u001b[1;33m\u001b[0m\u001b[0m\n",
      "\u001b[1;32m~\\Desktop\\Tesis Magister\\Magister\\ThesisCode\\MainCode\\openPitModel.py\u001b[0m in \u001b[0;36mopenPitModel\u001b[1;34m(self, bloques_CA, predecessor_block, TON_C, MIN_C, LEY_C, CM_CA_C, CP_CA_C, t_C, RMu_t, RMl_t, RPu_t, RPl_t, qu_t, ql_t, time_max_C, basePrice)\u001b[0m\n\u001b[0;32m    105\u001b[0m       \u001b[0mopenPitModel\u001b[0m\u001b[1;33m.\u001b[0m\u001b[0msetObjective\u001b[0m\u001b[1;33m(\u001b[0m\u001b[0mFO_OP\u001b[0m\u001b[1;33m,\u001b[0m \u001b[0mGRB\u001b[0m\u001b[1;33m.\u001b[0m\u001b[0mMAXIMIZE\u001b[0m\u001b[1;33m)\u001b[0m\u001b[1;33m\u001b[0m\u001b[1;33m\u001b[0m\u001b[0m\n\u001b[0;32m    106\u001b[0m       \u001b[0mopenPitModel\u001b[0m\u001b[1;33m.\u001b[0m\u001b[0mParams\u001b[0m\u001b[1;33m.\u001b[0m\u001b[0mMIPGap\u001b[0m \u001b[1;33m=\u001b[0m \u001b[1;36m0.01\u001b[0m\u001b[1;33m\u001b[0m\u001b[1;33m\u001b[0m\u001b[0m\n\u001b[1;32m--> 107\u001b[1;33m       \u001b[0mopenPitModel\u001b[0m\u001b[1;33m.\u001b[0m\u001b[0moptimize\u001b[0m\u001b[1;33m(\u001b[0m\u001b[1;33m)\u001b[0m\u001b[1;33m\u001b[0m\u001b[1;33m\u001b[0m\u001b[0m\n\u001b[0m\u001b[0;32m    108\u001b[0m       \u001b[1;31m#openPitModel.Params.MIPGap = 0.20\u001b[0m\u001b[1;33m\u001b[0m\u001b[1;33m\u001b[0m\u001b[1;33m\u001b[0m\u001b[0m\n\u001b[0;32m    109\u001b[0m       \u001b[0mlista_variable_Integrado\u001b[0m \u001b[1;33m=\u001b[0m \u001b[1;33m(\u001b[0m\u001b[0mopenPitModel\u001b[0m\u001b[1;33m.\u001b[0m\u001b[0mgetAttr\u001b[0m\u001b[1;33m(\u001b[0m\u001b[0mGRB\u001b[0m\u001b[1;33m.\u001b[0m\u001b[0mAttr\u001b[0m\u001b[1;33m.\u001b[0m\u001b[0mX\u001b[0m\u001b[1;33m,\u001b[0m \u001b[0mopenPitModel\u001b[0m\u001b[1;33m.\u001b[0m\u001b[0mgetVars\u001b[0m\u001b[1;33m(\u001b[0m\u001b[1;33m)\u001b[0m\u001b[1;33m)\u001b[0m\u001b[1;33m)\u001b[0m\u001b[1;33m\u001b[0m\u001b[1;33m\u001b[0m\u001b[0m\n",
      "\u001b[1;32msrc\\gurobipy\\model.pxi\u001b[0m in \u001b[0;36mgurobipy.Model.optimize\u001b[1;34m()\u001b[0m\n",
      "\u001b[1;31mGurobiError\u001b[0m: Out of memory"
     ]
    }
   ],
   "source": [
    "import pandas as pd\n",
    "from integratedModel import IntegratedModel\n",
    "from undergroundModel import UndergroundModel\n",
    "from openPitModel import OpenPitModel\n",
    "\n",
    "\n",
    "class Main:\n",
    "    def __init__(self, path, undergroundDatabaseName, openPitDatabaseName):\n",
    "        self.path = path\n",
    "        self.openPitDatabaseName = openPitDatabaseName\n",
    "        self.undergroundDatabaseName = undergroundDatabaseName\n",
    "        self.runIntegratedModel = False\n",
    "        self.runOpenPitModel = True\n",
    "        self.runUndergroundModel = False\n",
    "        self.numberOfPeriods = 15\n",
    "        self.models = []\n",
    "        \n",
    "    def execute(self):\n",
    "        print(\"Setting MineDatabases\")\n",
    "        self.setMineDatabases()\n",
    "        self.createModels()\n",
    "        self.getResults()\n",
    "\n",
    "        #plotResults(self.variableValues, self.CA_blocks, self.openPitBlocksLenghtLimits, self.openPitBlocksWidthLimits,\n",
    "        #self.openPitBlocksHeightLimits, self.undergroundBlocksWidthLimits, self.undergroundBlocksHeightLimits)\n",
    "        #print(self.variableValues)\n",
    "        #self.getResults(self.model)\n",
    "\n",
    "    def setMineDatabases(self):\n",
    "        if self.runIntegratedModel:  \n",
    "            self.openMineDataframe = pd.read_excel(self.path+self.openPitDatabaseName, engine=\"openpyxl\")\n",
    "            self.undergroundMineDataframe = pd.read_excel(self.path+self.undergroundDatabaseName, engine=\"openpyxl\")\n",
    "\n",
    "        elif self.runUndergroundModel and self.runOpenPitModel:\n",
    "            self.undergroundMineDataframe = pd.read_excel(self.path+self.undergroundDatabaseName, engine=\"openpyxl\")\n",
    "            self.openMineDataframe = pd.read_excel(self.path+self.openPitDatabaseName, engine=\"openpyxl\")\n",
    "\n",
    "        elif self.runUndergroundModel:\n",
    "            self.undergroundMineDataframe = pd.read_excel(self.path+self.undergroundDatabaseName, engine=\"openpyxl\")\n",
    "\n",
    "        elif self.runOpenPitModel:\n",
    "            self.openMineDataframe = pd.read_excel(self.path+self.openPitDatabaseName, engine=\"openpyxl\")\n",
    "    \n",
    "    def createModels(self):\n",
    "        if self.runIntegratedModel:  \n",
    "            self.createIntegratedModel()\n",
    "\n",
    "        elif self.runUndergroundModel and self.runOpenPitModel:\n",
    "            self.createUndergroundModel()\n",
    "            self.createOpenPitModel()\n",
    "\n",
    "        elif self.runUndergroundModel:\n",
    "            self.createUndergroundModel()\n",
    "\n",
    "        elif self.runOpenPitModel:\n",
    "            self.createOpenPitModel()\n",
    "\n",
    "    def createIntegratedModel(self):\n",
    "        integratedModel = IntegratedModel(self.undergroundMineDataframe, self.openMineDataframe,self.numberOfPeriods)\n",
    "        self.models.append(integratedModel)\n",
    "\n",
    "    def createUndergroundModel(self):\n",
    "        undergroundModel = UndergroundModel(self.undergroundMineDataframe, self.numberOfPeriods)\n",
    "        self.models.append(undergroundModel)\n",
    "\n",
    "    def createOpenPitModel(self):\n",
    "        openPitModel = OpenPitModel(self.openMineDataframe, self.numberOfPeriods)\n",
    "        self.models.append(openPitModel)\n",
    "\n",
    "\n",
    "    def getResults(self):\n",
    "        for model in self.models:\n",
    "            self.objValue, self.variableValues, self.runtime, self.gap = model.execute()\n",
    "            print(\"Objective Value: {} RunTime: {} GAP: {}\" .format(self.objValue, self.runtime, self.gap))\n",
    "\n",
    "\n",
    "path = \"C:/Users/Williams Medina/Desktop/Tesis Magister/Magister/ThesisCode/MainCode/Databases/integratedModel/\"\n",
    "undergroundDatabaseName = 'Modelo_F_OG.xlsx'\n",
    "#openPitDatabaseName = 'Modelo_F_OG.xlsx'\n",
    "openPitDatabaseName = 'Modelo_F_OG.xlsx'\n",
    "main = Main(path, undergroundDatabaseName, openPitDatabaseName)\n",
    "main.execute()"
   ]
  },
  {
   "cell_type": "code",
   "execution_count": null,
   "id": "ff022f77",
   "metadata": {},
   "outputs": [],
   "source": [
    "main.models[0].openPitBlockTonnage"
   ]
  },
  {
   "cell_type": "code",
   "execution_count": null,
   "id": "539608ba",
   "metadata": {},
   "outputs": [],
   "source": [
    "tonPerPeriod = [variable *  for variable in main.variableValues]"
   ]
  },
  {
   "cell_type": "code",
   "execution_count": null,
   "id": "c06101db",
   "metadata": {},
   "outputs": [],
   "source": [
    "period1 = main.variableValues[0]"
   ]
  },
  {
   "cell_type": "code",
   "execution_count": null,
   "id": "4c48f9ac",
   "metadata": {},
   "outputs": [],
   "source": [
    "main.variableValues"
   ]
  },
  {
   "cell_type": "code",
   "execution_count": null,
   "id": "ff91e492",
   "metadata": {},
   "outputs": [],
   "source": [
    "variables = main.variableValues\n",
    "len(variables)"
   ]
  },
  {
   "cell_type": "code",
   "execution_count": null,
   "id": "8eb16cd8",
   "metadata": {},
   "outputs": [],
   "source": [
    "tonnelagePerPeriods = {}\n",
    "mineralPerPeriods = {}\n",
    "for period in range(0,16):\n",
    "    tonnelagePerPeriods[period] = 0\n",
    "    mineralPerPeriods[period] = 0\n",
    "    for block in range(len(variables)//(main.numberOfPeriods+1)-1):\n",
    "        tonnelagePerPeriods[period] += main.variableValues[period*len(variables)//(main.numberOfPeriods+1)+block] * main.models[0].openPitBlockTonnage[block]\n",
    "        mineralPerPeriods[period] += main.variableValues[period*len(variables)//(main.numberOfPeriods+1)+block] * main.models[0].openPitBlockMineral[block]\n",
    "print(tonnelagePerPeriods)\n",
    "print(mineralPerPeriods)"
   ]
  },
  {
   "cell_type": "code",
   "execution_count": null,
   "id": "96ef4d07",
   "metadata": {},
   "outputs": [],
   "source": [
    "115776000.0/16 * 1.2"
   ]
  },
  {
   "cell_type": "code",
   "execution_count": null,
   "id": "81864315",
   "metadata": {},
   "outputs": [],
   "source": [
    "periodTon = {period:main.variableValues[period*len(variables)//(main.numberOfPeriods+1)+block] * main.models[0].openPitBlockTonnage[block] for period in range(15) for block in range(len(variables)//(main.numberOfPeriods+1)-1) }"
   ]
  },
  {
   "cell_type": "code",
   "execution_count": 40,
   "id": "bfe0d535",
   "metadata": {},
   "outputs": [
    {
     "data": {
      "text/plain": [
       "11760"
      ]
     },
     "execution_count": 40,
     "metadata": {},
     "output_type": "execute_result"
    }
   ],
   "source": [
    "len(main.models[0].openPitBlockTonnage)"
   ]
  },
  {
   "cell_type": "code",
   "execution_count": 42,
   "id": "74302e45",
   "metadata": {},
   "outputs": [
    {
     "data": {
      "text/plain": [
       "11760.0"
      ]
     },
     "execution_count": 42,
     "metadata": {},
     "output_type": "execute_result"
    }
   ],
   "source": [
    "len(variables)/16"
   ]
  },
  {
   "cell_type": "code",
   "execution_count": null,
   "id": "0d4a5396",
   "metadata": {},
   "outputs": [],
   "source": []
  }
 ],
 "metadata": {
  "kernelspec": {
   "display_name": "Python 3 (ipykernel)",
   "language": "python",
   "name": "python3"
  },
  "language_info": {
   "codemirror_mode": {
    "name": "ipython",
    "version": 3
   },
   "file_extension": ".py",
   "mimetype": "text/x-python",
   "name": "python",
   "nbconvert_exporter": "python",
   "pygments_lexer": "ipython3",
   "version": "3.7.9"
  }
 },
 "nbformat": 4,
 "nbformat_minor": 5
}
