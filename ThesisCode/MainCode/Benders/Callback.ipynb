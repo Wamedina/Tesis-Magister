{
 "cells": [
  {
   "cell_type": "code",
   "execution_count": null,
   "metadata": {},
   "outputs": [],
   "source": [
    "from gurobipy import *\n",
    "import numpy"
   ]
  },
  {
   "cell_type": "code",
   "execution_count": null,
   "metadata": {},
   "outputs": [],
   "source": [
    "def exCB(model, where):\n",
    "    \n",
    "    #print(\"Callback\", where)\n",
    "    \n",
    "    if where == GRB.Callback.MIPNODE:\n",
    "        \n",
    "        m = 0 #cardinalidad\n",
    "        w = 0 \n",
    "        d = 0\n",
    "        \n",
    "        for j in N:\n",
    "            if model.cbGetNodeRel(x[j]) > 0.1:\n",
    "                w += model.cbGetNodeRel(x[j])\n",
    "                m += 1\n",
    "                d += a[j]\n",
    "        \n",
    "        if d > b and w > m - 1 + 0.001:\n",
    "        \n",
    "            cut = LinExpr()\n",
    "        \n",
    "            for j in N:\n",
    "                if model.cbGetNodeRel(x[j]) > 0.1:\n",
    "                    cut += x[j]\n",
    "                \n",
    "            model.cbCut(cut <= m - 1)\n",
    "            print(\"User cut\")\n",
    "    #Este usaremos nosotros, es para soluciones enteras       \n",
    "    if where == GRB.Callback.MIPSOL:\n",
    "        \n",
    "        m = 0 #cardinalidad\n",
    "        \n",
    "        #De acá recuperamos la solución que esta calculando gurobi, esto es para el problema maestro\n",
    "        for j in N:\n",
    "            if model.cbGetSolution(x[j]) > 0.5:\n",
    "                m += 1\n",
    "        \n",
    "        if m % 2 == 1:\n",
    "        \n",
    "            cut = LinExpr()\n",
    "        \n",
    "            for j in N:\n",
    "                if model.cbGetSolution(x[j]) > 0.5:\n",
    "                    cut = cut + (1-x[j])\n",
    "                else:\n",
    "                    cut = cut + x[j]\n",
    "                \n",
    "            model.cbLazy(cut >= 1)\n",
    "            print(\"Lazy cut\")"
   ]
  },
  {
   "cell_type": "code",
   "execution_count": null,
   "metadata": {},
   "outputs": [],
   "source": [
    "n = 10\n",
    "N = range(n)\n",
    "\n",
    "numpy.random.seed(1)\n",
    "\n",
    "a = numpy.random.randint(50,100,n)\n",
    "c = numpy.random.randint(50,100,n)\n",
    "b = int(sum(a)/2)\n",
    "\n",
    "ip = Model()\n",
    "ip.params.Presolve = 0\n",
    "ip.params.PreCrush = 1\n",
    "ip.params.LazyConstraints = 1#Poner este parámetro en el problema maestro.\n",
    "\n",
    "x = ip.addVars(N, vtype = GRB.BINARY)\n",
    "\n",
    "ip.addConstr(sum(a[j]*x[j] for j in N) <= b)\n",
    "\n",
    "ip.setObjective(sum(c[j]*x[j] for j in N), GRB.MAXIMIZE)\n",
    "\n",
    "ip.optimize(exCB)\n",
    "\n",
    "print()\n",
    "\n",
    "for j in N:\n",
    "    print(j, x[j].x)"
   ]
  },
  {
   "cell_type": "code",
   "execution_count": null,
   "metadata": {},
   "outputs": [],
   "source": []
  }
 ],
 "metadata": {
  "kernelspec": {
   "display_name": "Python 3.9.6 64-bit",
   "language": "python",
   "name": "python3"
  },
  "language_info": {
   "codemirror_mode": {
    "name": "ipython",
    "version": 3
   },
   "file_extension": ".py",
   "mimetype": "text/x-python",
   "name": "python",
   "nbconvert_exporter": "python",
   "pygments_lexer": "ipython3",
   "version": "3.9.6"
  },
  "vscode": {
   "interpreter": {
    "hash": "3c198a0bf143da720db8a1ed2fdc43342371f98b364fdf2ef3c0c72d17a471d7"
   }
  }
 },
 "nbformat": 4,
 "nbformat_minor": 4
}
