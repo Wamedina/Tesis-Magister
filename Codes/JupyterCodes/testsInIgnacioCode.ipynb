{
 "cells": [
  {
   "cell_type": "code",
   "execution_count": null,
   "metadata": {},
   "outputs": [],
   "source": [
    "x_draw = []\n",
    "A = 720 - 440\n",
    "\n",
    "if int((A)/10+1)%2 == 0:\n",
    "    for i in range(0,int((A)/10+1)//2):\n",
    "        x_draw.append(i)\n",
    "else:\n",
    "    for i in range(0,int((A)/10)//2):\n",
    "        x_draw.append(i)\n",
    "\n",
    "y_draw = []\n",
    "A = 910 - 550\n",
    "\n",
    "if int((A)/10+1)%3 == 0:\n",
    "    for i in range(0,int((A)/10+1)//3):\n",
    "        y_draw.append(i)\n",
    "else:\n",
    "    for i in range(0,int((A)/10)//3):\n",
    "        y_draw.append(i)\n",
    "\n",
    "z_draw = []\n",
    "for i in range(0,int((300)/10)):\n",
    "    z_draw.append(i)"
   ]
  },
  {
   "cell_type": "code",
   "execution_count": null,
   "metadata": {},
   "outputs": [],
   "source": [
    "def valor_extra (limite1,limite2):\n",
    "    valor_aux_1 = 0\n",
    "    valor_aux_2 = 0\n",
    "    LARGO = limite2[0]//limite1[0]\n",
    "    for i in range(LARGO):\n",
    "        valor_aux_1 += valor_aux_2\n",
    "        valor_aux_2 += limite1[0]\n",
    "        \n",
    "    valor_extra = valor_aux_1//(LARGO)\n",
    "    return valor_extra"
   ]
  },
  {
   "cell_type": "code",
   "execution_count": null,
   "metadata": {},
   "outputs": [],
   "source": [
    "def Escalado_conjunto_posicion (limites_x,limites_y,limites_z,limites_x_C,limites_y_C,limites_z_C):\n",
    "     \n",
    "    extra_x = valor_extra (limites_x,limites_x_C)\n",
    "    extra_y = valor_extra (limites_y,limites_y_C)\n",
    "    extra_z = valor_extra (limites_z,limites_z_C)\n",
    "        \n",
    "    x_min = min(limites_x[2],limites_x_C[2] - extra_x)\n",
    "    y_min = min(limites_y[2],limites_y_C[2] - extra_y)\n",
    "    z_min = min(limites_z[2],limites_z_C[2] - extra_z)\n",
    "    \n",
    "    x_max = max(limites_x[1],limites_x_C[1]+ extra_x)\n",
    "    y_max = max(limites_y[1],limites_y_C[1]+ extra_y)\n",
    "    z_max = max(limites_z[1],limites_z_C[1]+ extra_z)\n",
    "    \n",
    "    escalado = (x_min,y_min,z_min,x_max,y_max,z_max)\n",
    "    \n",
    "    dif_no_rebloq = (-limites_x[2] + x_min, -limites_y[2] + y_min, -limites_z[2] + z_min)\n",
    "    dif_rebloq = (-limites_x_C[2] + x_min + extra_x, -limites_y_C[2] + y_min + extra_y, -limites_z_C[2] + z_min + extra_z)\n",
    "    \n",
    "    ### Escalado es de la forma (x_min, y_min, z_min, x_max, y_max, z_max)\n",
    "    \n",
    "    ### dif_no_rebloq es de la forma (distancia del origen del modelo no rebloqueado al global en x,y,z)\n",
    "    \n",
    "    ### dif_rebloq es de la forma (distancia del origen del modelo rebloqueado al global en x,y,z)\n",
    "    \n",
    "    bloques_x = (x_max-x_min)//limites_x[0]\n",
    "    bloques_y = (y_max-y_min)//limites_y[0]\n",
    "    bloques_z = (z_max-z_min)//limites_z[0]\n",
    "    bloques_final = (bloques_x,bloques_y,bloques_z) \n",
    "    \n",
    "    return escalado , dif_no_rebloq, dif_rebloq , bloques_final"
   ]
  },
  {
   "cell_type": "code",
   "execution_count": null,
   "metadata": {},
   "outputs": [],
   "source": [
    "limites_x = main.MasterProblem.undergroundBlocksLenghtLimits \n",
    "limites_y = main.MasterProblem.undergroundBlocksWidthLimits \n",
    "limites_z = main.MasterProblem.undergroundBlocksHeightLimits \n",
    "\n",
    "\n",
    "limites_x_C = main.SubProblem.openPitBlocksLengthLimits \n",
    "limites_y_C = main.SubProblem.openPitBlocksWidthLimits \n",
    "limites_z_C = main.SubProblem.openPitBlocksHeightLimits \n",
    "pos_x = main.MasterProblem.pos_x\n",
    "pos_y = main.MasterProblem.pos_y\n",
    "pos_z = main.MasterProblem.pos_z\n",
    "modelo_general = Escalado_conjunto_posicion (limites_x,limites_y,limites_z,limites_x_C,limites_y_C,limites_z_C)"
   ]
  },
  {
   "cell_type": "code",
   "execution_count": null,
   "metadata": {},
   "outputs": [],
   "source": [
    "def A_escalar_S (modelo_general,pos_x,pos_y,pos_z):\n",
    "    \n",
    "    distancia_x = modelo_general[0][0] - pos_x\n",
    "    distancia_y = modelo_general[0][1] - pos_y\n",
    "    distancia_z = modelo_general[0][2] - pos_z\n",
    "    \n",
    "    return(distancia_x,distancia_y,distancia_z)"
   ]
  },
  {
   "cell_type": "code",
   "execution_count": null,
   "metadata": {},
   "outputs": [],
   "source": [
    "def separacion_integrado(lista_variable_Integrado,time_max_C,bloques_CA):\n",
    "    VAR_X_C = list()\n",
    "    VAR_S = list()\n",
    "    aux = 0\n",
    "    for i in range(len(lista_variable_Integrado)):\n",
    "        if aux < (bloques_CA)*time_max_C:\n",
    "            VAR_X_C.append(lista_variable_Integrado[i])\n",
    "        else:\n",
    "            VAR_S.append(lista_variable_Integrado[i])\n",
    "        aux += 1\n",
    "    return VAR_X_C, VAR_S"
   ]
  },
  {
   "cell_type": "code",
   "execution_count": null,
   "metadata": {},
   "outputs": [],
   "source": [
    "def Funcion_Resultados_Variables(lista_variable,t_S): \n",
    "    X_1_INT = list()\n",
    "    Y_1_INT = list()\n",
    "    Z_1_INT = list()\n",
    "    lista_aux = list()\n",
    "\n",
    "    for i in range(len(lista_variable)):\n",
    "        if i <= len(lista_variable)//3:\n",
    "            if (i) % t_S[max(t_S)] == 0 and i != 0:\n",
    "                X_1_INT.append(lista_aux)\n",
    "                lista_aux = []\n",
    "                lista_aux.append(lista_variable[i])\n",
    "            else:\n",
    "                lista_aux.append(lista_variable[i])\n",
    "        \n",
    "                \n",
    "        elif i <= 2*len(lista_variable)//3:\n",
    "            if (i) % t_S[max(t_S)] == 0 and i != 0:\n",
    "                Y_1_INT.append(lista_aux)\n",
    "                lista_aux = []\n",
    "                lista_aux.append(lista_variable[i])\n",
    "            else:\n",
    "                lista_aux.append(lista_variable[i])\n",
    "                \n",
    "        else:\n",
    "            if (i) % t_S[max(t_S)] == 0 and i != 0:\n",
    "                Z_1_INT.append(lista_aux)\n",
    "                lista_aux = []\n",
    "                lista_aux.append(lista_variable[i])\n",
    "            else:\n",
    "                lista_aux.append(lista_variable[i])\n",
    "    Z_1_INT.append(lista_aux)\n",
    "    return X_1_INT, Y_1_INT, Z_1_INT"
   ]
  },
  {
   "cell_type": "code",
   "execution_count": null,
   "metadata": {},
   "outputs": [],
   "source": [
    "lista_x_S_separada = Funcion_Resultados_Variables(main.MasterProblem.lista_variable_Integrado, main.MasterProblem.t_S)"
   ]
  },
  {
   "cell_type": "code",
   "execution_count": null,
   "metadata": {},
   "outputs": [],
   "source": [
    "lista_x_S_separada1, lista_x_C_separada = separacion_integrado(main.MasterProblem.lista_variable_Integrado,main.numberOfPeriods,len(main.SubProblem.L_b))"
   ]
  },
  {
   "cell_type": "code",
   "execution_count": null,
   "metadata": {},
   "outputs": [],
   "source": [
    "distancia_x, distancia_y, distancia_z = A_escalar_S(modelo_general, pos_x, pos_y, pos_z)"
   ]
  },
  {
   "cell_type": "code",
   "execution_count": null,
   "metadata": {},
   "outputs": [],
   "source": [
    "a = []\n",
    "for dp in main.MasterProblem.drawpoint:\n",
    "    posicion = posicionar_dp_CA_S(dp,x_draw,y_draw,z_draw)\n",
    "    # posición es de la forma [x,y,z], por lo mismo se aprovechará de des_Rebloquear acá\n",
    "    for x in range(2):\n",
    "        for y in range(3):\n",
    "            # Tambien se aprovechará de escalar\n",
    "            valor_x = posicion[0]*2 + x - (distancia_x//limites_x[0])\n",
    "            valor_y = posicion[1]*3 + y - (distancia_y//limites_y[0])\n",
    "            valor_z = posicion[2] - (distancia_z//limites_z[0])"
   ]
  },
  {
   "cell_type": "code",
   "execution_count": null,
   "metadata": {},
   "outputs": [],
   "source": [
    "posicion_lista_S_X(lista_x_S_separada, x_draw, y_draw, z_draw, distancia_x, distancia_y, distancia_z,main.MasterProblem.undergroundBlocksLenghtLimits \n",
    ",main.MasterProblem.undergroundBlocksWidthLimits, main.MasterProblem.undergroundBlocksHeightLimits )"
   ]
  }
 ],
 "metadata": {
  "language_info": {
   "name": "python"
  },
  "orig_nbformat": 4
 },
 "nbformat": 4,
 "nbformat_minor": 2
}
