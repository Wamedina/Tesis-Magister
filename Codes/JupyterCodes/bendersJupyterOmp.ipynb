{
 "cells": [
  {
   "cell_type": "code",
   "execution_count": 1,
   "metadata": {},
   "outputs": [],
   "source": [
    "import sys  \n",
    "sys.path.insert(0, '../OMPbenders/')\n",
    "%matplotlib widget"
   ]
  },
  {
   "cell_type": "code",
   "execution_count": 2,
   "metadata": {},
   "outputs": [],
   "source": [
    "import pandas as pd\n",
    "import gurobipy   as      gp\n",
    "from   gurobipy   import GRB\n",
    "from MasterProblemOMP import MasterProblem\n",
    "from SubProblemOMP import SubProblem\n",
    "from plotResults import plotResults"
   ]
  },
  {
   "attachments": {},
   "cell_type": "markdown",
   "metadata": {},
   "source": [
    "Se cambió la definición de rho_v (el 1- no va), además se redifinió self.numberOfConstraints (se definió self.intNumberOfConstraints para calcular el óptimo). Se cambió como se calcula numberOfInvaiableBlocks"
   ]
  },
  {
   "attachments": {},
   "cell_type": "markdown",
   "metadata": {},
   "source": [
    "AL utilizar ql_t en 0.15 la solución objetivo se convierte en 0.0, estamos usando Ton * %Cu como ql, ¿Esta bien???, como se aplica ql, sobre cada bloque o sobre la suma de estos?, hay que cambiar la función de OMPsubproblem en función de esto "
   ]
  },
  {
   "attachments": {},
   "cell_type": "markdown",
   "metadata": {},
   "source": []
  },
  {
   "cell_type": "code",
   "execution_count": 3,
   "metadata": {},
   "outputs": [],
   "source": [
    "#path = \"C:/Users/willi/OneDrive/Escritorio/Magister/Tesis-Magister/Database/integratedModel/\" #Notebook\n",
    "path = \"/home/williams/Tesis-Magister/Databases/\"\n",
    "#path = \"C:/Users/Williams Medina/Desktop/Tesis Magister/Tesis-Magister/ThesisCode/MainCode/Databases/integratedModel/\" #Desktop\n",
    "undergroundDatabaseName = 'Modelo_F_OG.xlsx'\n",
    "#openPitDatabaseName = 'Modelo_F_OG.xlsx'\n",
    "openPitDatabaseName = 'Modelo_F_OG_4_4_4.xlsx'"
   ]
  },
  {
   "cell_type": "code",
   "execution_count": 4,
   "metadata": {},
   "outputs": [],
   "source": [
    "if undergroundDatabaseName == openPitDatabaseName:\n",
    "    undergroundMineDataframe = pd.read_excel(path + undergroundDatabaseName, engine=\"openpyxl\") #Notebook\n",
    "    openPitDataframe = undergroundMineDataframe\n",
    "else:\n",
    "    undergroundMineDataframe = pd.read_excel(path + undergroundDatabaseName, engine=\"openpyxl\") #Notebook\n",
    "    openPitDataframe = pd.read_excel(path + openPitDatabaseName, engine=\"openpyxl\") #Notebook"
   ]
  },
  {
   "cell_type": "code",
   "execution_count": 5,
   "metadata": {},
   "outputs": [],
   "source": [
    "class Main:\n",
    "    def __init__(self, undergroundMineDataframe, openPitDataframe):\n",
    "        self.openPitDataframe = openPitDataframe\n",
    "        self.undergroundMineDataframe = undergroundMineDataframe\n",
    "        self.numberOfPeriods = 5\n",
    "        self.epsilon = 100000\n",
    "        self.safetyLevel = 15\n",
    "        self.colHeight = 300#300 max 630\n",
    "        self.minColHeight = 0.40\n",
    "        \n",
    "    def execute(self):\n",
    "        self.createModels()\n",
    "        self.setMasterProblemCrownPillarHeights()\n",
    "        self.getResults()\n",
    "    \n",
    "    def createModels(self):\n",
    "        self.createSubProblem()\n",
    "        self.createMasterProblem()\n",
    "\n",
    "    def createSubProblem(self):\n",
    "        self.SubProblem = SubProblem(self.openPitDataframe, self.numberOfPeriods, self.safetyLevel)\n",
    "        self.SubProblem.setParameters()\n",
    "\n",
    "    def createMasterProblem(self):\n",
    "        self.MasterProblem = MasterProblem(self.undergroundMineDataframe, self.numberOfPeriods, self.colHeight, self.minColHeight)\n",
    "        self.MasterProblem.setParameters()\n",
    "        \n",
    "    def setMasterProblemCrownPillarHeights(self):\n",
    "        self.MasterProblem.V, self.MasterProblem.rho_v = self.SubProblem.V, self.SubProblem.rho_v\n",
    "        self.MasterProblem.B_v = self.SubProblem.B_v\n",
    "    \n",
    "    def calculateInvaiableBlocksWithSafetyLevel(self, selectedHeight):\n",
    "        heightWithSafetyLevel = selectedHeight + self.safetyLevel\n",
    "        if heightWithSafetyLevel not in self.MasterProblem.B_v.keys():\n",
    "            closestHeight = next((height for height in sorted(self.MasterProblem.V) if height >= heightWithSafetyLevel), None)\n",
    "            if closestHeight == None:\n",
    "                return len(self.SubProblem.openPitBlocks)\n",
    "            return len(self.MasterProblem.B_v[closestHeight])\n",
    "        return len(self.MasterProblem.B_v[heightWithSafetyLevel])\n",
    "\n",
    "    def getResults(self):\n",
    "        it = 0\n",
    "        self.MasterProblem.setModel()\n",
    "        currentTheta = -1000000000\n",
    "        while True:\n",
    "            it += 1\n",
    "            self.estimatedW_v, self.estimatedTheta = self.MasterProblem.optimize()\n",
    "            numberOfInvaiableBlocks = self.calculateInvaiableBlocksWithSafetyLevel(self.MasterProblem.selectedHeight)\n",
    "            self.subProblemObjValue, self.pi_vb = self.SubProblem.execute(numberOfInvaiableBlocks, isFinalIteration = False)\n",
    "            print(it, \"Objective Value =\", self.MasterProblem.undergroundModel.objVal- self.MasterProblem.theta.X + self.subProblemObjValue)\n",
    "            print(\"w_v: {}\".format(self.MasterProblem.selectedHeight ))\n",
    "            print(\"Master theta: {}\".format(self.MasterProblem.theta))\n",
    "            print(\"Current theta: {}\".format(currentTheta))\n",
    "            print(self.MasterProblem.selectedHeight,numberOfInvaiableBlocks)\n",
    "\n",
    "            \n",
    "            if abs(self.MasterProblem.theta.X - currentTheta) <= self.epsilon:\n",
    "                objVal = self.MasterProblem.undergroundModel.objVal- self.MasterProblem.theta.X + self.subProblemObjValue\n",
    "                self.subProblemObjValue, self.pi_vb = self.SubProblem.execute(numberOfInvaiableBlocks, isFinalIteration = True) #esto se cambia si queremos poner toposort\n",
    "                currentTheta = self.estimatedTheta.X\n",
    "                self.estimatedW_v, self.estimatedTheta = self.MasterProblem.optimize()\n",
    "                print(\"-----------------------------Valor óptimo encontrado-----------------------------\")\n",
    "                print(\"Optimal Crown Pillar height: {}\".format(self.MasterProblem.selectedHeight ))\n",
    "                print(self.estimatedW_v)\n",
    "                print(\"Optimal ObjVal: {}\".format(self.MasterProblem.undergroundModel.objVal))\n",
    " \n",
    "                toposort = self.MasterProblem.undergroundModel.objVal- self.MasterProblem.theta.X + self.subProblemObjValue\n",
    "                print(\"Optimal Theta: {}\".format(self.MasterProblem.theta.X))\n",
    "                print(\"Optimal ObjVal relaxed: {}\".format(objVal))\n",
    "                print(\"Master problem obj val: {}\".format(self.MasterProblem.undergroundModel.objVal))\n",
    "                print(\"Optimal ObjVal TopoSort: {}\".format(toposort))\n",
    "                print(f\"GAP: {100 * (objVal-toposort)/objVal}\")\n",
    "                print(self.MasterProblem.selectedHeight,numberOfInvaiableBlocks)\n",
    "                #print(\"Current theta: {}\".format(currentTheta))\n",
    "                break\n",
    "            \n",
    "\n",
    "            currentTheta = self.estimatedTheta.X\n",
    "            #self.MasterProblem.undergroundModel.addConstr(self.MasterProblem.theta <= self.subProblemObjValue + gp.quicksum(gp.quicksum(self.pi_vb[t] * len(self.MasterProblem.B_v[v]) * (self.estimatedW_v[v] - self.MasterProblem.w_v[v]) for t in self.MasterProblem.t_S) for v in self.MasterProblem.V))\n",
    "\n",
    "            self.MasterProblem.undergroundModel.addConstr(self.MasterProblem.theta <= self.subProblemObjValue + gp.quicksum(gp.quicksum(self.pi_vb[t] * numberOfInvaiableBlocks * (self.estimatedW_v[v] - self.MasterProblem.w_v[v]) for v in self.MasterProblem.V) for t in self.MasterProblem.t_S))\n",
    "            print()\n",
    "            print()"
   ]
  },
  {
   "cell_type": "code",
   "execution_count": 6,
   "metadata": {},
   "outputs": [
    {
     "name": "stdout",
     "output_type": "stream",
     "text": [
      "Set parameter Username\n",
      "Academic license - for non-commercial use only - expires 2023-10-02\n",
      "Set parameter TimeLimit to value 3600\n",
      "Se optimizó el subproblema con 11760 bloques infactibles\n",
      "1 Objective Value = 1954655755.6277466\n",
      "w_v: 1305\n",
      "Master theta: <gurobi.Var theta (value 90000000000.0)>\n",
      "Current theta: -1000000000\n",
      "1305 11760\n",
      "\n",
      "\n",
      "Se optimizó el subproblema con 11760 bloques infactibles\n",
      "2 Objective Value = 2052224497.126762\n",
      "w_v: 1305\n",
      "Master theta: <gurobi.Var theta (value 3.0517578125e-05)>\n",
      "Current theta: 90000000000.0\n",
      "1305 11760\n",
      "\n",
      "\n",
      "Se optimizó el subproblema con 11760 bloques infactibles\n",
      "3 Objective Value = 2052224497.1267629\n",
      "w_v: 1305\n",
      "Master theta: <gurobi.Var theta (value 3.0517578125e-05)>\n",
      "Current theta: 3.0517578125e-05\n",
      "1305 11760\n",
      "Se optimizó el subproblema con 11760 bloques infactibles\n",
      "-----------------------------Valor óptimo encontrado-----------------------------\n",
      "Optimal Crown Pillar height: 1305\n",
      "{745: 0.0, 785: 0.0, 825: 0.0, 865: 0.0, 905: 0.0, 945: 0.0, 985: 0.0, 1025: 0.0, 1065: 0.0, 1105: 0.0, 1145: 0.0, 1185: 0.0, 1225: 0.0, 1265: 0.0, 1305: 1.0}\n",
      "Optimal ObjVal: 2052224497.1267934\n",
      "Optimal Theta: 3.0517578125e-05\n",
      "Optimal ObjVal relaxed: 2052224497.1267629\n",
      "Master problem obj val: 2052224497.1267934\n",
      "Optimal ObjVal TopoSort: 2052224497.1267629\n",
      "GAP: 0.0\n",
      "1305 11760\n"
     ]
    }
   ],
   "source": [
    "main = Main(undergroundMineDataframe, openPitDataframe)\n",
    "main.execute()"
   ]
  },
  {
   "cell_type": "code",
   "execution_count": 7,
   "metadata": {},
   "outputs": [
    {
     "data": {
      "text/plain": [
       "(2052224497.1267629, 0.0, 3.0517578125e-05)"
      ]
     },
     "execution_count": 7,
     "metadata": {},
     "output_type": "execute_result"
    }
   ],
   "source": [
    "main.MasterProblem.undergroundModel.objVal-main.MasterProblem.theta.X , main.subProblemObjValue, main.MasterProblem.theta.X"
   ]
  },
  {
   "cell_type": "code",
   "execution_count": 8,
   "metadata": {},
   "outputs": [
    {
     "data": {
      "text/plain": [
       "33.6"
      ]
     },
     "execution_count": 8,
     "metadata": {},
     "output_type": "execute_result"
    }
   ],
   "source": [
    "len(main.MasterProblem.drawpoint)/main.numberOfPeriods"
   ]
  },
  {
   "cell_type": "code",
   "execution_count": null,
   "metadata": {},
   "outputs": [],
   "source": []
  },
  {
   "cell_type": "code",
   "execution_count": 9,
   "metadata": {},
   "outputs": [
    {
     "data": {
      "text/plain": [
       "0.0"
      ]
     },
     "execution_count": 9,
     "metadata": {},
     "output_type": "execute_result"
    }
   ],
   "source": [
    "main.subProblemObjValue"
   ]
  },
  {
   "cell_type": "code",
   "execution_count": 10,
   "metadata": {},
   "outputs": [
    {
     "name": "stdout",
     "output_type": "stream",
     "text": [
      "Set parameter TimeLimit to value 3600\n",
      "Se optimizó el subproblema con 1003520 bloques infactibles\n",
      "1 Objective Value = 1954655755.6277313\n",
      "w_v: 1320\n",
      "Master theta: <gurobi.Var theta (value 90000000000.0)>\n",
      "Current theta: -1000000000\n",
      "1320 1003520\n",
      "\n",
      "\n",
      "Se optimizó el subproblema con 1003520 bloques infactibles\n",
      "2 Objective Value = 1970995939.0027623\n",
      "w_v: 1320\n",
      "Master theta: <gurobi.Var theta (value 0.0)>\n",
      "Current theta: 90000000000.0\n",
      "1320 1003520\n",
      "\n",
      "\n",
      "Se optimizó el subproblema con 1003520 bloques infactibles\n",
      "3 Objective Value = 1970995939.0027623\n",
      "w_v: 1320\n",
      "Master theta: <gurobi.Var theta (value 0.0)>\n",
      "Current theta: 0.0\n",
      "1320 1003520\n",
      "Se optimizó el subproblema con 1003520 bloques infactibles\n",
      "-----------------------------Valor óptimo encontrado-----------------------------\n",
      "Optimal Crown Pillar height: 1320\n",
      "{530: 0.0, 540: 0.0, 550: 0.0, 560: 0.0, 570: 0.0, 580: 0.0, 590: 0.0, 600: 0.0, 610: 0.0, 620: 0.0, 630: 0.0, 640: 0.0, 650: 0.0, 660: 0.0, 670: 0.0, 680: 0.0, 690: 0.0, 700: 0.0, 710: 0.0, 720: 0.0, 730: 0.0, 740: 0.0, 750: 0.0, 760: 0.0, 770: 0.0, 780: 0.0, 790: 0.0, 800: 0.0, 810: 0.0, 820: 0.0, 830: 0.0, 840: 0.0, 850: 0.0, 860: 0.0, 870: 0.0, 880: 0.0, 890: 0.0, 900: 0.0, 910: 0.0, 920: 0.0, 930: 0.0, 940: 0.0, 950: 0.0, 960: 0.0, 970: 0.0, 980: 0.0, 990: 0.0, 1000: 0.0, 1010: 0.0, 1020: 0.0, 1030: 0.0, 1040: 0.0, 1050: 0.0, 1060: 0.0, 1070: 0.0, 1080: 0.0, 1090: 0.0, 1100: 0.0, 1110: 0.0, 1120: 0.0, 1130: 0.0, 1140: 0.0, 1150: 0.0, 1160: 0.0, 1170: 0.0, 1180: 0.0, 1190: 0.0, 1200: 0.0, 1210: 0.0, 1220: 0.0, 1230: 0.0, 1240: 0.0, 1250: 0.0, 1260: 0.0, 1270: 0.0, 1280: 0.0, 1290: 0.0, 1300: 0.0, 1310: 0.0, 1320: 1.0}\n",
      "Optimal ObjVal: 1970995939.0027623\n",
      "Optimal Theta: 0.0\n",
      "Optimal ObjVal relaxed: 1970995939.0027623\n",
      "Master problem obj val: 1970995939.0027623\n",
      "Optimal ObjVal TopoSort: 1970995939.0027623\n",
      "GAP: 0.0\n",
      "1320 1003520\n"
     ]
    }
   ],
   "source": [
    "main2 = Main(undergroundMineDataframe, undergroundMineDataframe)\n",
    "main2.execute()"
   ]
  },
  {
   "cell_type": "code",
   "execution_count": 11,
   "metadata": {},
   "outputs": [
    {
     "data": {
      "text/plain": [
       "{530: <gurobi.Var w[530] (value 0.0)>,\n",
       " 540: <gurobi.Var w[540] (value 0.0)>,\n",
       " 550: <gurobi.Var w[550] (value 0.0)>,\n",
       " 560: <gurobi.Var w[560] (value 0.0)>,\n",
       " 570: <gurobi.Var w[570] (value 0.0)>,\n",
       " 580: <gurobi.Var w[580] (value 0.0)>,\n",
       " 590: <gurobi.Var w[590] (value 0.0)>,\n",
       " 600: <gurobi.Var w[600] (value 0.0)>,\n",
       " 610: <gurobi.Var w[610] (value 0.0)>,\n",
       " 620: <gurobi.Var w[620] (value 0.0)>,\n",
       " 630: <gurobi.Var w[630] (value 0.0)>,\n",
       " 640: <gurobi.Var w[640] (value 0.0)>,\n",
       " 650: <gurobi.Var w[650] (value 0.0)>,\n",
       " 660: <gurobi.Var w[660] (value 0.0)>,\n",
       " 670: <gurobi.Var w[670] (value 0.0)>,\n",
       " 680: <gurobi.Var w[680] (value 0.0)>,\n",
       " 690: <gurobi.Var w[690] (value 0.0)>,\n",
       " 700: <gurobi.Var w[700] (value 0.0)>,\n",
       " 710: <gurobi.Var w[710] (value 0.0)>,\n",
       " 720: <gurobi.Var w[720] (value 0.0)>,\n",
       " 730: <gurobi.Var w[730] (value 0.0)>,\n",
       " 740: <gurobi.Var w[740] (value 0.0)>,\n",
       " 750: <gurobi.Var w[750] (value 0.0)>,\n",
       " 760: <gurobi.Var w[760] (value 0.0)>,\n",
       " 770: <gurobi.Var w[770] (value 0.0)>,\n",
       " 780: <gurobi.Var w[780] (value 0.0)>,\n",
       " 790: <gurobi.Var w[790] (value 0.0)>,\n",
       " 800: <gurobi.Var w[800] (value 0.0)>,\n",
       " 810: <gurobi.Var w[810] (value 0.0)>,\n",
       " 820: <gurobi.Var w[820] (value 0.0)>,\n",
       " 830: <gurobi.Var w[830] (value 0.0)>,\n",
       " 840: <gurobi.Var w[840] (value 0.0)>,\n",
       " 850: <gurobi.Var w[850] (value 0.0)>,\n",
       " 860: <gurobi.Var w[860] (value 0.0)>,\n",
       " 870: <gurobi.Var w[870] (value 0.0)>,\n",
       " 880: <gurobi.Var w[880] (value 0.0)>,\n",
       " 890: <gurobi.Var w[890] (value 0.0)>,\n",
       " 900: <gurobi.Var w[900] (value 0.0)>,\n",
       " 910: <gurobi.Var w[910] (value 0.0)>,\n",
       " 920: <gurobi.Var w[920] (value 0.0)>,\n",
       " 930: <gurobi.Var w[930] (value 0.0)>,\n",
       " 940: <gurobi.Var w[940] (value 0.0)>,\n",
       " 950: <gurobi.Var w[950] (value 0.0)>,\n",
       " 960: <gurobi.Var w[960] (value 0.0)>,\n",
       " 970: <gurobi.Var w[970] (value 0.0)>,\n",
       " 980: <gurobi.Var w[980] (value 0.0)>,\n",
       " 990: <gurobi.Var w[990] (value 0.0)>,\n",
       " 1000: <gurobi.Var w[1000] (value 0.0)>,\n",
       " 1010: <gurobi.Var w[1010] (value 0.0)>,\n",
       " 1020: <gurobi.Var w[1020] (value 0.0)>,\n",
       " 1030: <gurobi.Var w[1030] (value 0.0)>,\n",
       " 1040: <gurobi.Var w[1040] (value 0.0)>,\n",
       " 1050: <gurobi.Var w[1050] (value 0.0)>,\n",
       " 1060: <gurobi.Var w[1060] (value 0.0)>,\n",
       " 1070: <gurobi.Var w[1070] (value 0.0)>,\n",
       " 1080: <gurobi.Var w[1080] (value 0.0)>,\n",
       " 1090: <gurobi.Var w[1090] (value 0.0)>,\n",
       " 1100: <gurobi.Var w[1100] (value 0.0)>,\n",
       " 1110: <gurobi.Var w[1110] (value 0.0)>,\n",
       " 1120: <gurobi.Var w[1120] (value 0.0)>,\n",
       " 1130: <gurobi.Var w[1130] (value 0.0)>,\n",
       " 1140: <gurobi.Var w[1140] (value 0.0)>,\n",
       " 1150: <gurobi.Var w[1150] (value 0.0)>,\n",
       " 1160: <gurobi.Var w[1160] (value 0.0)>,\n",
       " 1170: <gurobi.Var w[1170] (value 0.0)>,\n",
       " 1180: <gurobi.Var w[1180] (value 0.0)>,\n",
       " 1190: <gurobi.Var w[1190] (value 0.0)>,\n",
       " 1200: <gurobi.Var w[1200] (value 0.0)>,\n",
       " 1210: <gurobi.Var w[1210] (value 0.0)>,\n",
       " 1220: <gurobi.Var w[1220] (value 0.0)>,\n",
       " 1230: <gurobi.Var w[1230] (value 0.0)>,\n",
       " 1240: <gurobi.Var w[1240] (value 0.0)>,\n",
       " 1250: <gurobi.Var w[1250] (value 0.0)>,\n",
       " 1260: <gurobi.Var w[1260] (value 0.0)>,\n",
       " 1270: <gurobi.Var w[1270] (value 0.0)>,\n",
       " 1280: <gurobi.Var w[1280] (value 0.0)>,\n",
       " 1290: <gurobi.Var w[1290] (value 0.0)>,\n",
       " 1300: <gurobi.Var w[1300] (value 0.0)>,\n",
       " 1310: <gurobi.Var w[1310] (value 0.0)>,\n",
       " 1320: <gurobi.Var w[1320] (value 1.0)>}"
      ]
     },
     "execution_count": 11,
     "metadata": {},
     "output_type": "execute_result"
    }
   ],
   "source": [
    "main2.MasterProblem.w_v"
   ]
  },
  {
   "cell_type": "code",
   "execution_count": 12,
   "metadata": {},
   "outputs": [
    {
     "data": {
      "text/plain": [
       "(1970995939.0027623, 0.0, 0.0)"
      ]
     },
     "execution_count": 12,
     "metadata": {},
     "output_type": "execute_result"
    }
   ],
   "source": [
    "main2.MasterProblem.undergroundModel.objVal-main2.MasterProblem.theta.X , main2.subProblemObjValue, main2.MasterProblem.theta.X"
   ]
  },
  {
   "cell_type": "code",
   "execution_count": 13,
   "metadata": {},
   "outputs": [
    {
     "data": {
      "text/plain": [
       "9408"
      ]
     },
     "execution_count": 13,
     "metadata": {},
     "output_type": "execute_result"
    }
   ],
   "source": [
    "len(main.SubProblem.B_v[1225])"
   ]
  },
  {
   "attachments": {},
   "cell_type": "markdown",
   "metadata": {},
   "source": []
  },
  {
   "attachments": {},
   "cell_type": "markdown",
   "metadata": {},
   "source": [
    "5 desagregado\n",
    "Optimal ObjVal: 2742740809.108471\n",
    "Optimal Theta: 682920000.0\n",
    "Optimal ObjVal TopoSort: 2742740809.108471\n",
    "3.2 segs\n",
    "\n",
    "\n",
    "10 desagregado\n",
    "Optimal ObjVal: 2268360094.125119\n",
    "Optimal Theta: 561370000.0\n",
    "Optimal ObjVal TopoSort: 2268360094.125119\n",
    "15.4 segs\n",
    "\n",
    "\n",
    "15 desagregado \n",
    "Optimal ObjVal: 1906146810.5342412\n",
    "Optimal Theta: 469290000.0\n",
    "Optimal ObjVal TopoSort: 1906146810.5342412 \n",
    "1min 12 segs\n",
    "\n",
    "\n",
    "\n",
    "20 desagregado Optimal ObjVal: 1624948384.8196843\n",
    "Optimal Theta: 399730000.0\n",
    "Optimal ObjVal TopoSort: 1624948384.8196843\n",
    "GAP: 0.0 \n",
    "8min 19.9 segs"
   ]
  },
  {
   "attachments": {},
   "cell_type": "markdown",
   "metadata": {},
   "source": [
    "10 desagregado\n",
    "\n",
    "Optimal ObjVal: 2343184937.4682417\n",
    "Optimal Theta: 640110000.0\n",
    "Optimal ObjVal TopoSort: 2329594937.4682417\n",
    "GAP: 0.5799798292781656"
   ]
  },
  {
   "attachments": {},
   "cell_type": "markdown",
   "metadata": {},
   "source": [
    "5 desagregado\n",
    "\n",
    "Optimal ObjVal: 2840469882.9332986\n",
    "Optimal Theta: 781890000.0\n",
    "Optimal ObjVal TopoSort: 2830099882.9332986\n",
    "GAP: 0.3650804418771411"
   ]
  },
  {
   "attachments": {},
   "cell_type": "markdown",
   "metadata": {},
   "source": [
    "15 agregado\n",
    "\n",
    "Optimal Crown Pillar height: {745: 1.0, 785: 0.0, 825: 0.0, 865: 0.0, 905: 0.0, 945: 0.0, 985: 0.0, 1025: 0.0, 1065: 0.0, 1105: 0.0, 1145: 0.0, 1185: 0.0, 1225: 0.0, 1265: 0.0, 1305: 0.0}\n",
    "Optimal ObjVal: 1903625419.951932\n",
    "Optimal Theta: 469290000.0\n",
    "Optimal ObjVal TopoSort: 1884355419.951932\n",
    "GAP: 1.0122789808347161"
   ]
  },
  {
   "attachments": {},
   "cell_type": "markdown",
   "metadata": {},
   "source": []
  },
  {
   "attachments": {},
   "cell_type": "markdown",
   "metadata": {},
   "source": [
    "------------------------"
   ]
  },
  {
   "attachments": {},
   "cell_type": "markdown",
   "metadata": {},
   "source": [
    "VALORES PARA BLOQUES AGREGADOS, SOLUCIÓN RELAJADA\n",
    "\n",
    "\n",
    "5 PERIODOS: 3.3 segs\n",
    "\n",
    "* Optimal ObjVal: 2742740809.10847\n",
    "* Optimal Theta: 682920000.0\n",
    "* Optimal ObjVal relaxed: 2742740809.108471\n",
    "* Master problem obj val: 2742740809.108471\n",
    "* Optimal ObjVal TopoSort: 2742740809.108471\n",
    "\n",
    "10 PERIODOS: 7.0 segs\n",
    "\n",
    "* Optimal ObjVal: 2271941260.015317\n",
    "* Optimal Theta: 561370000.0\n",
    "* Optimal ObjVal relaxed: 2271941260.015317\n",
    "* Master problem obj val: 2271941260.015317\n",
    "* Optimal ObjVal TopoSort: 2271941260.015317\n",
    "* GAP: 0.0\n",
    "\n",
    "15 PERIODOS: 14.1 segs\n",
    "\n",
    "* Optimal ObjVal: 1873723971.8816504\n",
    "* Optimal Theta: 469290000.0\n",
    "* Optimal ObjVal relaxed: 1873723971.8816504\n",
    "* Master problem obj val: 1873723971.8816504\n",
    "* Optimal ObjVal TopoSort: 1873723971.8816504\n",
    "* GAP: 0.0\n",
    "\n",
    "20 PERIODOS: 25.5 segs\n",
    "\n",
    "* Optimal ObjVal: 1616265630.1377\n",
    "* Optimal Theta: 399730000.0\n",
    "* Optimal ObjVal relaxed: 1616265630.1377\n",
    "* Master problem obj val: 1616265630.1377\n",
    "* Optimal ObjVal TopoSort: 1616265630.1377\n",
    "* GAP: 0.0"
   ]
  },
  {
   "attachments": {},
   "cell_type": "markdown",
   "metadata": {},
   "source": [
    "------------------------"
   ]
  },
  {
   "attachments": {},
   "cell_type": "markdown",
   "metadata": {},
   "source": [
    "VALORES PARA BLOQUES DESAGREGADOS, SOLUCIÓN RELAJADA\n",
    "\n",
    "\n",
    "5 PERIODOS: 59.2 segs\n",
    "\n",
    "* Optimal ObjVal: 2807234376.8134923\n",
    "* Optimal Theta: 781890000.0\n",
    "* Optimal ObjVal relaxed: 2807234376.8134923\n",
    "* Master problem obj val: 2807234376.8134923\n",
    "* Optimal ObjVal TopoSort: 2807234376.8134923\n",
    "\n",
    "10 PERIODOS: 1 min 27.3 segs\n",
    "\n",
    "* Optimal ObjVal: 2353537399.199758\n",
    "* Optimal Theta: 640110000.0\n",
    "* Optimal ObjVal relaxed: 2353537399.199758\n",
    "* Master problem obj val: 2353537399.199758\n",
    "* Optimal ObjVal TopoSort: 2353537399.199758\n",
    "* GAP: 0.0\n",
    "\n",
    "15 PERIODOS: 2 min 10.2 segs\n",
    "\n",
    "* Optimal ObjVal: 1962744919.4705706\n",
    "* Optimal Theta: 532320000.0\n",
    "* Optimal ObjVal relaxed: 1962744919.4705706\n",
    "* Master problem obj val: 1962744919.4705706\n",
    "* Optimal ObjVal TopoSort: 1962744919.4705706\n",
    "* GAP: 0.0\n",
    "\n",
    "20 PERIODOS: 3 min 0.9 segs\n",
    "\n",
    "* Optimal ObjVal: 1657095434.8418837\n",
    "* Optimal Theta: 449440000.0\n",
    "* Optimal ObjVal relaxed: 1657095434.8418837\n",
    "* Master problem obj val: 1657095434.8418837\n",
    "* Optimal ObjVal TopoSort: 1657095434.8418837\n",
    "* GAP: 0.0"
   ]
  },
  {
   "attachments": {},
   "cell_type": "markdown",
   "metadata": {},
   "source": [
    "------------------------"
   ]
  },
  {
   "attachments": {},
   "cell_type": "markdown",
   "metadata": {},
   "source": [
    "VALORES PARA BLOQUES AGREGADOS, SOLUCIÓN ENTERA\n",
    "\n",
    "\n",
    "5 PERIODOS: 3.2 segs\n",
    "\n",
    "* Optimal ObjVal: 2742740809.108471\n",
    "* Optimal Theta: 682920000.0\n",
    "* Optimal ObjVal relaxed: 2742740809.108471\n",
    "* Master problem obj val: 2742740809.108471\n",
    "* Optimal ObjVal TopoSort: 2686060809.108471\n",
    "* GAP: 2.0665459824628436\n",
    "\n",
    "10 PERIODOS: 7.0 segs\n",
    "\n",
    "* Optimal ObjVal: 2271941260.015317\n",
    "* Optimal Theta: 561370000.0\n",
    "* Optimal ObjVal relaxed: 2271941260.015317\n",
    "* Master problem obj val: 2271941260.015317\n",
    "* Optimal ObjVal TopoSort: 2228841260.015317\n",
    "* GAP: 1.8970560884883718\n",
    "\n",
    "15 PERIODOS: 13.9 segs\n",
    "* Optimal ObjVal: 1873723971.8816504\n",
    "* Optimal Theta: 469290000.0\n",
    "* Optimal ObjVal relaxed: 1873723971.8816504\n",
    "* Master problem obj val: 1873723971.8816504\n",
    "* Optimal ObjVal TopoSort: 1854453971.8816504\n",
    "* GAP: 1.0284332318515668\n",
    "\n",
    "20 PERIODOS: 25.3 segs \n",
    "\n",
    "* Optimal ObjVal: 1616265630.1377\n",
    "* Optimal Theta: 399730000.0\n",
    "* Optimal ObjVal relaxed: 1616265630.1377\n",
    "* Master problem obj val: 1616265630.1377\n",
    "* Optimal ObjVal TopoSort: 1593475630.1377\n",
    "* GAP: 1.4100405017001056"
   ]
  },
  {
   "attachments": {},
   "cell_type": "markdown",
   "metadata": {},
   "source": [
    "------------------------"
   ]
  },
  {
   "attachments": {},
   "cell_type": "markdown",
   "metadata": {},
   "source": [
    "VALORES PARA BLOQUES DESAGREGADOS, SOLUCIÓN ENTERA\n",
    "\n",
    "\n",
    "5 PERIODOS: 3.3 segs\n",
    "\n",
    "* Optimal ObjVal: 2807234376.8134923\n",
    "* Optimal Theta: 781890000.0\n",
    "* Optimal ObjVal relaxed: 2807234376.8134923\n",
    "* Master problem obj val: 2807234376.8134923\n",
    "* Optimal ObjVal TopoSort: 2796864376.8134923\n",
    "* GAP: 0.3694027148446025\n",
    "\n",
    "10 PERIODOS: 1 min 27.7 segs\n",
    "\n",
    "* Optimal ObjVal: 2353537399.199758\n",
    "* Optimal Theta: 640110000.0\n",
    "* Optimal ObjVal relaxed: 2353537399.199758\n",
    "* Master problem obj val: 2353537399.199758\n",
    "* Optimal ObjVal TopoSort: 2339947399.199758\n",
    "* GAP: 0.5774286826553436\n",
    "\n",
    "15 PERIODOS: 2 min 9.8 segs\n",
    "\n",
    "* Optimal ObjVal: 1962744919.4705706\n",
    "* Optimal Theta: 532320000.0\n",
    "* Optimal ObjVal relaxed: 1962744919.4705706\n",
    "* Master problem obj val: 1962744919.4705706\n",
    "* Optimal ObjVal TopoSort: 1941014919.4705706\n",
    "* GAP: 1.1071229778478517\n",
    "\n",
    "20 PERIODOS: 2 min 59.9 segs\n",
    "\n",
    "* Optimal ObjVal: 1657095434.8418837\n",
    "* Optimal Theta: 449440000.0\n",
    "* Optimal ObjVal relaxed: 1657095434.8418837\n",
    "* Master problem obj val: 1657095434.8418837\n",
    "* Optimal ObjVal TopoSort: 1640575434.8418837\n",
    "* GAP: 0.9969250806352201"
   ]
  },
  {
   "attachments": {},
   "cell_type": "markdown",
   "metadata": {},
   "source": [
    "------------------------"
   ]
  },
  {
   "attachments": {},
   "cell_type": "markdown",
   "metadata": {},
   "source": []
  }
 ],
 "metadata": {
  "kernelspec": {
   "display_name": "Python 3",
   "language": "python",
   "name": "python3"
  },
  "language_info": {
   "codemirror_mode": {
    "name": "ipython",
    "version": 3
   },
   "file_extension": ".py",
   "mimetype": "text/x-python",
   "name": "python",
   "nbconvert_exporter": "python",
   "pygments_lexer": "ipython3",
   "version": "3.10.6"
  },
  "orig_nbformat": 4,
  "vscode": {
   "interpreter": {
    "hash": "31f2aee4e71d21fbe5cf8b01ff0e069b9275f58929596ceb00d14d90e3e16cd6"
   }
  }
 },
 "nbformat": 4,
 "nbformat_minor": 2
}
